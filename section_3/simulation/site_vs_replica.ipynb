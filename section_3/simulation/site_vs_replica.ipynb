{
 "cells": [
  {
   "cell_type": "code",
   "execution_count": 3,
   "metadata": {},
   "outputs": [],
   "source": [
    "#import networkx as nx\n",
    "#from networkx.algorithms import bipartite\n",
    "import matplotlib.pyplot as plt\n",
    "import numpy as np\n",
    "\n",
    "%matplotlib inline\n",
    "import itertools\n",
    "import warnings\n",
    "import argparse\n",
    "from multiprocessing import Pool\n",
    "import sys\n",
    "from collections import Counter\n",
    "import random\n",
    "import pickle\n",
    "import re\n",
    "import networkx as nx\n",
    "from os import listdir\n",
    "import cupy as cp\n",
    "from cupyx.scipy.sparse import csr_matrix as csr_gpu\n",
    "import scipy\n",
    "import matplotlib.colors as colors\n",
    "from collections import defaultdict \n",
    "import pandas as pd\n",
    "import os\n",
    "from matplotlib.animation import FuncAnimation\n",
    "sys.path.insert(0, \"../../lib\")  # add the library folder to the path I look for modules\n",
    "import latexify\n",
    "import dynamical_cavity"
   ]
  },
  {
   "cell_type": "markdown",
   "metadata": {},
   "source": [
    "Choose the folder to load data from"
   ]
  },
  {
   "cell_type": "code",
   "execution_count": 4,
   "metadata": {},
   "outputs": [
    {
     "name": "stdout",
     "output_type": "stream",
     "text": [
      "Select one of this folder\n",
      "gamma\n",
      "3\n",
      "1.81\n"
     ]
    },
    {
     "data": {
      "text/plain": [
       "[['3'], ['1.81']]"
      ]
     },
     "execution_count": 4,
     "metadata": {},
     "output_type": "execute_result"
    }
   ],
   "source": [
    "dir_list = next(os.walk('.'))[1]# select only first subdirectories\n",
    "folder_pattern = re.compile(\"gamma_[0-9]+\")\n",
    "folder_names=[name  for name in dir_list if folder_pattern.match(name)]# select only folder with specific names\n",
    "pattern2 = re.compile(\"\\d+.\\d+|\\d+\")\n",
    "matching_folders=[[n for n in pattern2.findall(folder)] for folder in folder_names]\n",
    "print(\"Select one of this folder\\ngamma\")\n",
    "for el in matching_folders:\n",
    "    print(str(el[0]))\n",
    "matching_folders"
   ]
  },
  {
   "cell_type": "code",
   "execution_count": 14,
   "metadata": {},
   "outputs": [
    {
     "data": {
      "text/plain": [
       "'\\nwhile True:\\n    gamma=input(\"Choose gamma \")\\n    if [gamma] in matching_folders:\\n        #gamma=int(gamma)\\n        break\\n    else:\\n        print(\"choose a different gamma \")\\n'"
      ]
     },
     "execution_count": 14,
     "metadata": {},
     "output_type": "execute_result"
    }
   ],
   "source": [
    "'''\n",
    "while True:\n",
    "    gamma=input(\"Choose gamma \")\n",
    "    if [gamma] in matching_folders:\n",
    "        #gamma=int(gamma)\n",
    "        break\n",
    "    else:\n",
    "        print(\"choose a different gamma \")\n",
    "'''"
   ]
  },
  {
   "cell_type": "code",
   "execution_count": 5,
   "metadata": {},
   "outputs": [
    {
     "name": "stdout",
     "output_type": "stream",
     "text": [
      "Simulation available for\n",
      "    theta\n",
      "T        \n",
      "0.1   0.0\n",
      "0.2   0.0\n",
      "0.2   0.1\n"
     ]
    }
   ],
   "source": [
    "gamma = 1.81\n",
    "def load_obj(folder,name ):\n",
    "    with open(folder+'/data/dic-' + name + '.pkl', 'rb') as f:\n",
    "        return pickle.load(f)\n",
    "def load_and_hist(T,gamma,**kwargs):\n",
    "    dic=load_obj('gamma_'+str(gamma),\"T_\"+str(T)+\"_theta\"+str(theta))\n",
    "    N=dic[\"N\"]\n",
    "    gamma=dic[\"gamma\"]\n",
    "    T=dic[\"T\"]\n",
    "    J=dic[\"J\"]    \n",
    "    magn_simulation=dic[\"magn_simulation\"]# shape is N_replics,N1\n",
    "    mean_sim=np.mean(magn_simulation,axis=0)\n",
    "    magn_cavity=dic[\"magn_cavity\"] #cavity(0,T, J, P_init)# take half temperature if things seems not to work\n",
    "    h_dyn,b_dyn=np.histogram(mean_sim,**kwargs,density=True)\n",
    "    h_cavity,b_cavity=np.histogram(magn_cavity,bins=b_dyn,density=True)\n",
    "    #plot(bins[:-1],h_cavity,\"-\",mfc=\"w\",label=\"cavity\"+str(T))\n",
    "    return b_dyn,h_dyn,h_cavity\n",
    "folder=\"gamma_\"+str(gamma)\n",
    "filenames=listdir(folder+\"/data\")\n",
    "pattern = re.compile(\"dic-T_\\d*\\.\\d+|\\d+theta_[0-9]+.pkl\")\n",
    "dictnames=[name  for name in filenames if pattern.match(name)]# select only dictionary files\n",
    "pattern2 = re.compile(\"\\d*\\.\\d+|\\d+\")\n",
    "sim_params=[[n for n in pattern2.findall(dic)] for dic in dictnames]\n",
    "print(\"Simulation available for\")\n",
    "print(pd.DataFrame(sim_params,columns=[\"T\",\"theta\"]).set_index(\"T\").sort_index())\n",
    "#for el in a:\n",
    "#    print(str(el[0])+\"  \\t \"+str(el[1])+\" \\t\"+str(el[2]))\n"
   ]
  },
  {
   "cell_type": "code",
   "execution_count": 6,
   "metadata": {
    "scrolled": true
   },
   "outputs": [],
   "source": [
    "T=.2\n",
    "theta = 0.1\n",
    "dic=load_obj('gamma_'+str(gamma),\"T_\"+str(T)+\"_theta\"+str(theta))\n",
    "N=dic[\"N\"]\n",
    "gamma=dic[\"gamma\"]\n",
    "T=dic[\"T\"]\n",
    "J=dic[\"J\"]\n",
    "try:\n",
    "    N_iterations = dic['N_iterations']\n",
    "except KeyError:\n",
    "    N_iteration = 0\n",
    "magn_simulation=dic[\"magn_simulation\"]# shape is N_replics,N1\n",
    "mean_sim=np.mean(magn_simulation,axis=0)\n",
    "var_sim=np.var(magn_simulation,axis=0)\n",
    "P_init=np.array([0.5]*N)\n",
    "magn_cavity=dic[\"magn_cavity\"] #cavity(0,T, J, P_init)# take half temperature if things seems not to work\n",
    "N_replics = np.shape(magn_simulation)[0]"
   ]
  },
  {
   "cell_type": "code",
   "execution_count": 7,
   "metadata": {},
   "outputs": [],
   "source": [
    "J_transpose = J.transpose().tolil()\n",
    "js = J_transpose.rows  # list of list, structure is [el[i]] where el[i]\n",
    "\n",
    "interaction = J_transpose.data  # list of list, structure is [el[i]]\n",
    "Ks = np.array([len(neigh) for neigh in js])  # in degree of each gene"
   ]
  },
  {
   "cell_type": "code",
   "execution_count": 8,
   "metadata": {
    "scrolled": false
   },
   "outputs": [
    {
     "data": {
      "image/png": "[encoded data removed]",
      "text/plain": [
       "<Figure size 244.08x150.85 with 1 Axes>"
      ]
     },
     "metadata": {
      "needs_background": "light"
     },
     "output_type": "display_data"
    }
   ],
   "source": [
    "#figure(figsize=(4,3))\n",
    "#bins=linspace(-0.01,1.01,50)\n",
    "latexify.latexify(columns=2)\n",
    "\n",
    "bins,h_dyn,h_cavity =load_and_hist(T,gamma,bins = 301)\n",
    "#h_dyn,b_dyn=histogram(mean_sim,np.linspace(0,1,100),density=True)\n",
    "#h_cavity,b_cavity=histogram(magn_cavity,bins=np.linspace(0,1,300),density=True)\n",
    "plt.plot(bins[:-1],h_cavity,\"-\",lw = 1,alpha = 1,mfc=\"w\",label=\"cavity\")\n",
    "plt.plot(bins[:-1],h_dyn,':',alpha = 0.9,lw = 1.5,label=\"MC\")\n",
    "#,density=True\n",
    "#bar(bins[:-1],h_cavity/sum(h_cavity),width=diff(bins),align=\"edge\",alpha=0.4,label=\"cavity\")\n",
    "plt.xlabel(\"$P_{MC},P$\",fontsize =13)\n",
    "plt.ylabel(\"$\\\\Pi(\\cdot)$\",fontsize =13)\n",
    "\n",
    "plt.legend(fontsize =11,numpoints = 1,ncol= 1)\n",
    "#plt.ylim(0.01,)\n",
    "plt.tight_layout()\n",
    "#plt.savefig(folder+\"/T=\"+str(T)+\".pdf\")\n",
    "\n"
   ]
  },
  {
   "cell_type": "code",
   "execution_count": 11,
   "metadata": {},
   "outputs": [],
   "source": [
    "mean_sim= magn_simulation"
   ]
  },
  {
   "cell_type": "code",
   "execution_count": 11,
   "metadata": {},
   "outputs": [
    {
     "data": {
      "text/plain": [
       "100000"
      ]
     },
     "execution_count": 11,
     "metadata": {},
     "output_type": "execute_result"
    }
   ],
   "source": [
    "N_iterations,J.data\n",
    "N"
   ]
  },
  {
   "cell_type": "code",
   "execution_count": 11,
   "metadata": {
    "scrolled": false
   },
   "outputs": [
    {
     "data": {
      "image/png": "[encoded data removed]",
      "text/plain": [
       "<Figure size 244.08x150.85 with 1 Axes>"
      ]
     },
     "metadata": {
      "needs_background": "light"
     },
     "output_type": "display_data"
    }
   ],
   "source": [
    "plt.hist(mean_sim-magn_cavity,100,density=True)\n",
    "plt.semilogy()\n",
    "#plt.xlabel('$\\\\delta = P_{sim}-P_{cav}$',fontsize = 13)\n",
    "plt.xlabel('$\\\\delta = P_{MC}-P$',fontsize = 13)\n",
    "plt.ylabel('$\\\\Pi(\\\\delta)$',fontsize = 13)\n",
    "plt.tight_layout()\n",
    "#plt.savefig('cav_vs_sim.pdf')"
   ]
  },
  {
   "cell_type": "code",
   "execution_count": 20,
   "metadata": {},
   "outputs": [
    {
     "name": "stdout",
     "output_type": "stream",
     "text": [
      "finishing after 16 iterations\n"
     ]
    }
   ],
   "source": [
    "a = cavity.cavity_caller(J,T,theta = 0,J0 = 1)\n"
   ]
  },
  {
   "cell_type": "code",
   "execution_count": 21,
   "metadata": {},
   "outputs": [
    {
     "data": {
      "image/png": "[encoded data removed]",
      "text/plain": [
       "<Figure size 432x288 with 1 Axes>"
      ]
     },
     "metadata": {
      "needs_background": "light"
     },
     "output_type": "display_data"
    }
   ],
   "source": [
    "_ = plt.hist(a,100)"
   ]
  },
  {
   "cell_type": "markdown",
   "metadata": {},
   "source": [
    "variation over different replicas are very small. Magnetisation depends on the site."
   ]
  },
  {
   "cell_type": "code",
   "execution_count": 10,
   "metadata": {},
   "outputs": [
    {
     "data": {
      "image/png": "[encoded data removed]",
      "text/plain": [
       "<Figure size 244.08x150.85 with 1 Axes>"
      ]
     },
     "metadata": {
      "needs_background": "light"
     },
     "output_type": "display_data"
    }
   ],
   "source": [
    "#N_iterations =max(log(1-0.9)/log(0.5*(1+tanh(1/2/T))),100)# number iterations grows at low temperature. See notes\n",
    "#N_iterations = min(N_iterations, 1000) # we avoid N_iterations to explode at low T\n",
    "s = var_sim/(magn_cavity*(1-magn_cavity)/N_iterations)/np.mean(var_sim/(magn_cavity*(1-magn_cavity)/N_iterations))\n",
    "h,b = np.histogram(s,bins = np.linspace(1-3*np.sqrt(2/N_replics),1+3*np.sqrt(2/N_replics),100),density=True)#sample variance / threoretical\n",
    "#h,b = np.histogram(var_sim/(magn_cavity*(1-magn_cavity)/N_iterations),bins = 100,density=True)#sample variance / threoretical\n",
    "\n",
    "plt.bar(b[:-1],h,np.diff(b),label = '$\\\\tilde{\\sigma}^2$')\n",
    "\n",
    "xs = np.linspace(b[0],b[-1],500)\n",
    "#plt.plot(xs,[stats.norm(loc=1,scale = np.sqrt(2/N_replics)).pdf(x) for x in xs],'k--',label = '$\\\\mathcal{N}(1,2/N_s)$')\n",
    "plt.plot(xs,[N_replics*stats.chi2(df = N_replics).pdf(x*N_replics) for x in xs],'m',label = 'thr')\n",
    "plt.xlabel(\"$\\\\tilde{\\\\sigma}^2$\",fontsize = 13)\n",
    "ylabel(\"$\\\\Pi(\\\\cdot)$\",fontsize =13)\n",
    "#plt.axvline(1,ls = '--',color = 'k')\n",
    "plt.tight_layout()\n",
    "plt.legend()\n",
    "#plt.xlim(0,2)\n",
    "\n",
    "#plt.semilogy()\n",
    "#plt.savefig(folder+'/std_T='+str(T)+'.pdf')\n"
   ]
  },
  {
   "cell_type": "markdown",
   "metadata": {},
   "source": [
    "# Hamming distance"
   ]
  },
  {
   "cell_type": "code",
   "execution_count": 20,
   "metadata": {},
   "outputs": [],
   "source": [
    "def unique_initial_conditions(N_replics,N1):\n",
    "    N_unique=1\n",
    "    while True:\n",
    "        if N_unique>=N_replics:\n",
    "            break\n",
    "        initial=np.unique(rand(N_replics,N)>0.5,axis=0)\n",
    "        N_unique=len(initial)\n",
    "    return where(initial,1,0)\n",
    "\n",
    "def replics_parallel(J,N_replics):\n",
    "    N = J.shape[0]\n",
    "    '''Generates N_rep2.**max(Ks)lics iniital conditions. each of them are slightly perturbed and then the hammin distance over time is shown'''\n",
    "    pool=Pool()\n",
    "    try:\n",
    "        if N_replics>0.1*2**N:\n",
    "            initials=[list(p) for p in itertools.product([0,1], repeat=N)]\n",
    "            raise Warning(\"I use 2**N replics instead\")\n",
    "        else:\n",
    "            initials=unique_initial_conditions(N_replics,N)\n",
    "    except OverflowError:\n",
    "        initials=unique_initial_conditions(N_replics,N)\n",
    "    data=pool.starmap(dynamics_parallel,itertools.product([J],[T],initials))\n",
    "    #data=pool.starmap(dynamics_lowT,itertools.product([J],initials))\n",
    "    #for replica in range(N_replic):\n",
    "    #        data+=[dynamics_light(J,psi_init,T)]\n",
    "    pool.close()\n",
    "    return data\n",
    "\n",
    "def dynamics_same_noise(J,T,n_start,proces = None):\n",
    "        '''returns the Hamming distance between to trajectory with the same noise realisation'''\n",
    "        N1=len(n_start)\n",
    "        n=n_start\n",
    "        t = 1\n",
    "        N_therm = 100\n",
    "        while t<N_therm:\n",
    "            n = scipy.sparse.csr_matrix(n)\n",
    "            z=numpy.random.logistic(0,T/2,(1,N1))\n",
    "            #z=numpy.random.normal(0,T,(1,N1))\n",
    "            a=(n*J).toarray()-z\n",
    "            n=where(a>0,1,0)\n",
    "            t+=1\n",
    "        k=3# select the number of spin to flip \n",
    "        js=random.sample(range(N1),k)\n",
    "        tau_start=n.copy()[0]\n",
    "        for j in js:\n",
    "            tau_start[j]=~tau_start[j]\n",
    "        tau=scipy.sparse.csr_matrix(tau_start)\n",
    "        n=scipy.sparse.csr_matrix(n)\n",
    "        t=1\n",
    "        data=[]\n",
    "        '''\n",
    "        while t<N_therm1:\n",
    "            z=numpy.random.logistic(0,T/2,(1,N1))\n",
    "            #z=numpy.random.normal(0,T,(1,N1))\n",
    "            a=(n*J).toarray()-z\n",
    "            n=where(a>0,1,0)\n",
    "            n=scipy.sparse.csr_matrix(n)\n",
    "            t+=1\n",
    "        '''\n",
    "        N_therm=100\n",
    "        while t<N_therm:\n",
    "            z=numpy.random.logistic(0,T/2,(1,N1))\n",
    "            #z=numpy.random.normal(0,T,(1,N1))\n",
    "            a=(n*J).toarray()-z\n",
    "            b=(tau*J).toarray()-z\n",
    "            n=where(a>0,1,0)\n",
    "            tau=where(b>0,1,0)\n",
    "            data+=[count_nonzero(tau!=n)]\n",
    "            n=scipy.sparse.csr_matrix(n)\n",
    "            tau=scipy.sparse.csr_matrix(tau)\n",
    "            t+=1\n",
    "\n",
    "        return data\n",
    "def dynamics(J,T,n_start,N_therm,proces = None):\n",
    "        '''returns the end state for a trajectory'''\n",
    "        #local_state = np.random.RandomState(seed)\n",
    "        N1=len(n_start)\n",
    "        n=n_start\n",
    "        t = 0\n",
    "        while t < N_therm:\n",
    "            z = cp.random.logistic(0, T , (1, N1))\n",
    "            # z=numpy.random.normal(0,2*T,(1,N1))\n",
    "            a = n * J - z\n",
    "            n = cp.where(a > 0, 1, 0.)[0]\n",
    "            t += 1\n",
    "        return n"
   ]
  },
  {
   "cell_type": "code",
   "execution_count": 21,
   "metadata": {},
   "outputs": [],
   "source": [
    "N = 10000\n",
    "N_iterations = 10000\n",
    "gamma = 3\n",
    "T = 0.2\n",
    "J = dyn.make_network(N,gamma)\n",
    "J_gpu = csr_gpu(J)"
   ]
  },
  {
   "cell_type": "code",
   "execution_count": 50,
   "metadata": {},
   "outputs": [
    {
     "name": "stdout",
     "output_type": "stream",
     "text": [
      "finishing after 15 iterations\n"
     ]
    }
   ],
   "source": [
    "N_replics = 1000\n",
    "initials = unique_initial_conditions(N_replics,N)\n",
    "#initials = [initials[0]]*N_replics\n",
    "#pool = Pool()\n",
    "sim = list(itertools.starmap(dynamics, itertools.product([J_gpu],[T],cp.asarray(initials),[N_replics])))\n",
    "#pool.close()\n",
    "P = dynamical_cavity.cavity_caller(J,T,0)"
   ]
  },
  {
   "cell_type": "code",
   "execution_count": 48,
   "metadata": {
    "scrolled": true
   },
   "outputs": [
    {
     "data": {
      "text/plain": [
       "6672"
      ]
     },
     "execution_count": 48,
     "metadata": {},
     "output_type": "execute_result"
    }
   ],
   "source": [
    "int(cp.count_nonzero(list(zip(*itertools.combinations(sim,2)))[0][0]==list(zip(*itertools.combinations(sim,2)))[1][0]))"
   ]
  },
  {
   "cell_type": "code",
   "execution_count": 51,
   "metadata": {
    "scrolled": true
   },
   "outputs": [
    {
     "data": {
      "text/plain": [
       "<matplotlib.legend.Legend at 0x7f82211a5820>"
      ]
     },
     "execution_count": 51,
     "metadata": {},
     "output_type": "execute_result"
    },
    {
     "data": {
      "image/png": "[encoded data removed]",
      "text/plain": [
       "<Figure size 432x288 with 1 Axes>"
      ]
     },
     "metadata": {
      "needs_background": "light"
     },
     "output_type": "display_data"
    }
   ],
   "source": [
    "distances = list(map(lambda x,y: N-int(cp.count_nonzero(x==y)),*zip(*itertools.combinations(sim,2))))\n"
   ]
  },
  {
   "cell_type": "code",
   "execution_count": 61,
   "metadata": {},
   "outputs": [
    {
     "data": {
      "image/png": "[encoded data removed]",
      "text/plain": [
       "<Figure size 432x288 with 1 Axes>"
      ]
     },
     "metadata": {
      "needs_background": "light"
     },
     "output_type": "display_data"
    }
   ],
   "source": [
    "h,b = np.histogram(distances,400,density=True)\n",
    "plt.plot(b[:-1]/N,h,label= 'sim')\n",
    "plt.axvline(np.mean(2*P*(1-P)),color = 'r',ls = '--',label = 'cavity prediction')\n",
    "plt.legend()\n",
    "plt.xlabel('hamming distance/N')\n",
    "plt.ylabel('freq. density')\n",
    "#plt.savefig('hamming_dist.pdf')"
   ]
  },
  {
   "cell_type": "code",
   "execution_count": 62,
   "metadata": {},
   "outputs": [
    {
     "data": {
      "text/plain": [
       "[<matplotlib.lines.Line2D at 0x7f81e8222c10>]"
      ]
     },
     "execution_count": 62,
     "metadata": {},
     "output_type": "execute_result"
    },
    {
     "data": {
      "image/png": "[encoded data removed]",
      "text/plain": [
       "<Figure size 432x288 with 1 Axes>"
      ]
     },
     "metadata": {
      "needs_background": "light"
     },
     "output_type": "display_data"
    }
   ],
   "source": [
    "h,b = np.histogram(distances,400,density=True)\n",
    "plt.plot(b[:-1]/N,h,label= 'sim')\n",
    "plt.xlim(0.33,0.)"
   ]
  },
  {
   "cell_type": "code",
   "execution_count": 21,
   "metadata": {},
   "outputs": [
    {
     "data": {
      "text/plain": [
       "5000.0"
      ]
     },
     "execution_count": 21,
     "metadata": {},
     "output_type": "execute_result"
    },
    {
     "data": {
      "image/png": "[encoded data removed]",
      "text/plain": [
       "<Figure size 432x288 with 1 Axes>"
      ]
     },
     "metadata": {
      "needs_background": "light"
     },
     "output_type": "display_data"
    }
   ],
   "source": [
    "distances = list(map(lambda x,y: N-np.count_nonzero(x==y),*zip(*itertools.combinations(initials,2))))\n",
    "_ = plt.hist(distances,100,label= 'sim')\n"
   ]
  },
  {
   "cell_type": "code",
   "execution_count": 9,
   "metadata": {},
   "outputs": [
    {
     "data": {
      "text/plain": [
       "6053.462704543866"
      ]
     },
     "execution_count": 9,
     "metadata": {},
     "output_type": "execute_result"
    },
    {
     "data": {
      "image/png": "[encoded data removed]",
      "text/plain": [
       "<Figure size 432x288 with 1 Axes>"
      ]
     },
     "metadata": {
      "needs_background": "light"
     },
     "output_type": "display_data"
    }
   ],
   "source": [
    "plt.hist(np.mean(sim,axis = 0),50)\n",
    "#plt.hist(P,30)\n",
    "sum(P**2+(1-P)**2)"
   ]
  },
  {
   "cell_type": "code",
   "execution_count": 52,
   "metadata": {},
   "outputs": [
    {
     "data": {
      "text/plain": [
       "<1000x1000 sparse matrix of type '<class 'numpy.float64'>'\n",
       "\twith 1775 stored elements in Compressed Sparse Row format>"
      ]
     },
     "execution_count": 52,
     "metadata": {},
     "output_type": "execute_result"
    }
   ],
   "source": [
    "x = np.random.rand(J.shape[0])\n",
    "x_gpu = cp.array(x)\n",
    "x_cpu = scipy.sparse.csr_matrix(x)\n",
    "\n",
    "J"
   ]
  },
  {
   "cell_type": "code",
   "execution_count": 58,
   "metadata": {},
   "outputs": [],
   "source": [
    "a = (x_cpu * J).toarray()\n",
    "b = cp.asnumpy(x_gpu*csr_gpu(J))\n"
   ]
  },
  {
   "cell_type": "code",
   "execution_count": 30,
   "metadata": {},
   "outputs": [
    {
     "data": {
      "text/plain": [
       "(array([1.000e+00, 8.755e+03, 0.000e+00, 8.310e+02, 0.000e+00, 2.580e+02,\n",
       "        0.000e+00, 7.600e+01, 3.600e+01, 0.000e+00, 1.500e+01, 0.000e+00,\n",
       "        1.000e+01, 0.000e+00, 9.000e+00, 0.000e+00, 1.000e+00, 2.000e+00,\n",
       "        0.000e+00, 1.000e+00, 0.000e+00, 0.000e+00, 0.000e+00, 1.000e+00,\n",
       "        2.000e+00, 0.000e+00, 0.000e+00, 0.000e+00, 0.000e+00, 0.000e+00,\n",
       "        0.000e+00, 0.000e+00, 0.000e+00, 0.000e+00, 0.000e+00, 1.000e+00,\n",
       "        0.000e+00, 0.000e+00, 0.000e+00, 0.000e+00, 0.000e+00, 0.000e+00,\n",
       "        0.000e+00, 0.000e+00, 0.000e+00, 0.000e+00, 0.000e+00, 0.000e+00,\n",
       "        0.000e+00, 1.000e+00]),\n",
       " array([ 0.  ,  0.56,  1.12,  1.68,  2.24,  2.8 ,  3.36,  3.92,  4.48,\n",
       "         5.04,  5.6 ,  6.16,  6.72,  7.28,  7.84,  8.4 ,  8.96,  9.52,\n",
       "        10.08, 10.64, 11.2 , 11.76, 12.32, 12.88, 13.44, 14.  , 14.56,\n",
       "        15.12, 15.68, 16.24, 16.8 , 17.36, 17.92, 18.48, 19.04, 19.6 ,\n",
       "        20.16, 20.72, 21.28, 21.84, 22.4 , 22.96, 23.52, 24.08, 24.64,\n",
       "        25.2 , 25.76, 26.32, 26.88, 27.44, 28.  ]),\n",
       " <BarContainer object of 50 artists>)"
      ]
     },
     "execution_count": 30,
     "metadata": {},
     "output_type": "execute_result"
    },
    {
     "data": {
      "image/png": "[encoded data removed]",
      "text/plain": [
       "<Figure size 432x288 with 1 Axes>"
      ]
     },
     "metadata": {
      "needs_background": "light"
     },
     "output_type": "display_data"
    }
   ],
   "source": [
    "plt.hist([len(x) for x in J.tolil().rows],50)"
   ]
  },
  {
   "cell_type": "code",
   "execution_count": 42,
   "metadata": {},
   "outputs": [],
   "source": [
    "data = itertools.starmap(dynamics_gpu, itertools.product([J], initial_states, [T], [N_iterations]))"
   ]
  },
  {
   "cell_type": "code",
   "execution_count": 95,
   "metadata": {},
   "outputs": [
    {
     "name": "stderr",
     "output_type": "stream",
     "text": [
      "/opt/miniconda3/lib/python3.7/site-packages/ipykernel_launcher.py:1: RuntimeWarning: divide by zero encountered in true_divide\n",
      "  \"\"\"Entry point for launching an IPython kernel.\n",
      "/opt/miniconda3/lib/python3.7/site-packages/ipykernel_launcher.py:1: RuntimeWarning: invalid value encountered in true_divide\n",
      "  \"\"\"Entry point for launching an IPython kernel.\n",
      "/opt/miniconda3/lib/python3.7/site-packages/numpy/lib/histograms.py:839: RuntimeWarning: invalid value encountered in greater_equal\n",
      "  keep = (tmp_a >= first_edge)\n",
      "/opt/miniconda3/lib/python3.7/site-packages/numpy/lib/histograms.py:840: RuntimeWarning: invalid value encountered in less_equal\n",
      "  keep &= (tmp_a <= last_edge)\n"
     ]
    },
    {
     "data": {
      "text/plain": [
       "(array([1.628e+03, 2.764e+03, 2.025e+03, 1.190e+03, 7.360e+02, 4.300e+02,\n",
       "        3.030e+02, 2.100e+02, 1.520e+02, 1.500e+02, 8.300e+01, 7.000e+01,\n",
       "        5.300e+01, 2.000e+01, 5.200e+01, 1.500e+01, 2.600e+01, 2.000e+00,\n",
       "        1.200e+01, 0.000e+00, 3.400e+01, 0.000e+00, 0.000e+00, 0.000e+00,\n",
       "        9.000e+00, 0.000e+00, 0.000e+00, 0.000e+00, 1.800e+01, 0.000e+00,\n",
       "        0.000e+00, 0.000e+00, 0.000e+00, 0.000e+00, 0.000e+00, 1.000e+00,\n",
       "        0.000e+00, 0.000e+00, 0.000e+00, 0.000e+00, 0.000e+00, 0.000e+00,\n",
       "        0.000e+00, 0.000e+00, 0.000e+00, 0.000e+00, 0.000e+00, 0.000e+00,\n",
       "        0.000e+00, 2.000e+00]),\n",
       " array([ 0.        ,  0.44676616,  0.89353232,  1.34029847,  1.78706463,\n",
       "         2.23383079,  2.68059695,  3.12736311,  3.57412926,  4.02089542,\n",
       "         4.46766158,  4.91442774,  5.3611939 ,  5.80796005,  6.25472621,\n",
       "         6.70149237,  7.14825853,  7.59502469,  8.04179085,  8.488557  ,\n",
       "         8.93532316,  9.38208932,  9.82885548, 10.27562164, 10.72238779,\n",
       "        11.16915395, 11.61592011, 12.06268627, 12.50945243, 12.95621858,\n",
       "        13.40298474, 13.8497509 , 14.29651706, 14.74328322, 15.19004937,\n",
       "        15.63681553, 16.08358169, 16.53034785, 16.97711401, 17.42388016,\n",
       "        17.87064632, 18.31741248, 18.76417864, 19.2109448 , 19.65771096,\n",
       "        20.10447711, 20.55124327, 20.99800943, 21.44477559, 21.89154175,\n",
       "        22.3383079 ]),\n",
       " <a list of 50 Patch objects>)"
      ]
     },
     "execution_count": 95,
     "metadata": {},
     "output_type": "execute_result"
    },
    {
     "data": {
      "image/png": "[encoded data removed]",
      "text/plain": [
       "<Figure size 244.08x150.85 with 1 Axes>"
      ]
     },
     "metadata": {},
     "output_type": "display_data"
    }
   ],
   "source": [
    "plt.hist(np.std(sim,axis = 0)/np.mean(sim,axis = 0),50)"
   ]
  },
  {
   "cell_type": "code",
   "execution_count": 23,
   "metadata": {},
   "outputs": [
    {
     "data": {
      "text/plain": [
       "9"
      ]
     },
     "execution_count": 23,
     "metadata": {},
     "output_type": "execute_result"
    }
   ],
   "source": [
    "np.count_nonzero(np.array(sorted(Ks,reverse=True))>200)"
   ]
  },
  {
   "cell_type": "code",
   "execution_count": 92,
   "metadata": {},
   "outputs": [
    {
     "data": {
      "text/plain": [
       "array([0.99225699])"
      ]
     },
     "execution_count": 92,
     "metadata": {},
     "output_type": "execute_result"
    }
   ],
   "source": [
    "cp.asarray(list(itertools.starmap(lambda x:cp.random.rand(),itertools.product(range(1)))))"
   ]
  },
  {
   "cell_type": "code",
   "execution_count": 31,
   "metadata": {},
   "outputs": [
    {
     "data": {
      "text/plain": [
       "1.2960471145315207"
      ]
     },
     "execution_count": 31,
     "metadata": {},
     "output_type": "execute_result"
    }
   ],
   "source": [
    "sum(2**Ks)/1e18"
   ]
  },
  {
   "cell_type": "code",
   "execution_count": 39,
   "metadata": {},
   "outputs": [
    {
     "name": "stderr",
     "output_type": "stream",
     "text": [
      "<ipython-input-39-53359a9cb9d7>:1: RuntimeWarning: overflow encountered in power\n",
      "  2.**max(Ks)\n"
     ]
    },
    {
     "data": {
      "text/plain": [
       "inf"
      ]
     },
     "execution_count": 39,
     "metadata": {},
     "output_type": "execute_result"
    }
   ],
   "source": [
    "2.**max(Ks)"
   ]
  },
  {
   "cell_type": "code",
   "execution_count": 20,
   "metadata": {},
   "outputs": [
    {
     "data": {
      "text/plain": [
       "(50000, 50000)"
      ]
     },
     "execution_count": 20,
     "metadata": {},
     "output_type": "execute_result"
    }
   ],
   "source": [
    "def load_obj(gamma,name):\n",
    "    path='gamma_'+str(gamma)+'/dic-' + name + '.pkl'\n",
    "    with open(path, 'rb') as f:\n",
    "        return pickle.load(f)\n",
    "    print(\"Couplings loaded from\"+path)\n",
    "dic = load_obj(gamma,\"couplings\")\n",
    "dic['J'].shape"
   ]
  },
  {
   "cell_type": "code",
   "execution_count": null,
   "metadata": {},
   "outputs": [],
   "source": []
  }
 ],
 "metadata": {
  "kernelspec": {
   "display_name": "Python 3",
   "language": "python",
   "name": "python3"
  },
  "language_info": {
   "codemirror_mode": {
    "name": "ipython",
    "version": 3
   },
   "file_extension": ".py",
   "mimetype": "text/x-python",
   "name": "python",
   "nbconvert_exporter": "python",
   "pygments_lexer": "ipython3",
   "version": "3.8.8"
  }
 },
 "nbformat": 4,
 "nbformat_minor": 2
}
