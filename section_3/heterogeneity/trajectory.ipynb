{
 "cells": [
  {
   "cell_type": "code",
   "execution_count": 2,
   "id": "d7d0de51",
   "metadata": {},
   "outputs": [],
   "source": [
    "from utilities import make_network,cavity_trj\n",
    "import numpy as np\n",
    "import matplotlib.pyplot as plt\n",
    "import sys\n",
    "sys.path.insert(0, \"../lib\")  # add the library folder to the path I look for modules\n",
    "import latexify"
   ]
  },
  {
   "cell_type": "code",
   "execution_count": 3,
   "id": "42d0d884",
   "metadata": {},
   "outputs": [],
   "source": [
    "N = 200_000\n",
    "gamma = 1.81\n",
    "bias = 0.379\n",
    "J = make_network(N,gamma,bias)\n"
   ]
  },
  {
   "cell_type": "code",
   "execution_count": 4,
   "id": "f1caf4c6",
   "metadata": {},
   "outputs": [],
   "source": [
    "js = J.transpose().tolil().rows  # list of list, structure is [el[i]] where el[i]\n",
    "Ks = np.array([len(neigh) for neigh in js])  # in degree of each gene\n",
    "avg_degree = np.mean(Ks)"
   ]
  },
  {
   "cell_type": "code",
   "execution_count": 5,
   "id": "da4b736a",
   "metadata": {},
   "outputs": [],
   "source": [
    "T = 0.3*np.sqrt(avg_degree)\n",
    "theta = 0\n",
    "P,trj = cavity_trj(J,T,theta)"
   ]
  },
  {
   "cell_type": "code",
   "execution_count": 7,
   "id": "a54026f3",
   "metadata": {},
   "outputs": [
    {
     "data": {
      "image/png": "[encoded data removed]",
      "text/plain": [
       "<Figure size 244.08x150.85 with 2 Axes>"
      ]
     },
     "metadata": {
      "needs_background": "light"
     },
     "output_type": "display_data"
    }
   ],
   "source": [
    "latexify.latexify(columns = 2)\n",
    "plt.imshow(np.array(trj)[:,np.argsort(P)],aspect='auto', origin='lower',cmap ='jet')\n",
    "cbar = plt.colorbar()\n",
    "cbar.set_label(\"$P$\",rotation=90,fontsize=12)\n",
    "plt.ylabel('iteration',fontsize=13)\n",
    "plt.xlabel('sorted node index',fontsize=13)\n",
    "plt.tight_layout()\n",
    "#plt.savefig('figures/trajectory.pdf')"
   ]
  },
  {
   "cell_type": "code",
   "execution_count": null,
   "id": "913d81f4",
   "metadata": {},
   "outputs": [],
   "source": []
  }
 ],
 "metadata": {
  "kernelspec": {
   "display_name": "Python 3",
   "language": "python",
   "name": "python3"
  },
  "language_info": {
   "codemirror_mode": {
    "name": "ipython",
    "version": 3
   },
   "file_extension": ".py",
   "mimetype": "text/x-python",
   "name": "python",
   "nbconvert_exporter": "python",
   "pygments_lexer": "ipython3",
   "version": "3.8.8"
  }
 },
 "nbformat": 4,
 "nbformat_minor": 5
}
