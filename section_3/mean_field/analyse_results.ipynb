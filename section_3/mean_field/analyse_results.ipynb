{
 "cells": [
  {
   "cell_type": "markdown",
   "metadata": {},
   "source": [
    "# Fig. 6\n",
    "This notebook load and combine the output files produced by the script `power.py`  to produce the figure shown in the paper.\n",
    "\n",
    "Output from ```power.py``` are saved in pickle files with name `\"theta_\"+str(theta)+':_eta_'+str(eta)+specifier+\".pkl\"`.\n",
    "Multiple outputs at the same theta are saved with different unique identifiers."
   ]
  },
  {
   "cell_type": "code",
   "execution_count": 1,
   "metadata": {},
   "outputs": [],
   "source": [
    "import numpy as np\n",
    "import matplotlib.pyplot as plt\n",
    "import pandas as pd\n",
    "import matplotlib as mpl\n",
    "import pickle\n",
    "from matplotlib.colors import LogNorm\n",
    "import os\n",
    "import re\n",
    "import sys\n",
    "sys.path.insert(0, \"../../lib\")  # add the library folder to the path I look for modules\n",
    "sys.path.insert(0, \"../heterogeneity/\")\n",
    "import latexify\n",
    "from utilities import make_network\n",
    "#import random_regular\n",
    "#import dynamical_cavity as cavity"
   ]
  },
  {
   "cell_type": "code",
   "execution_count": 2,
   "metadata": {
    "scrolled": false
   },
   "outputs": [],
   "source": [
    "\n",
    "def load_obj(theta,eta,specifier = ''):\n",
    "    name='theta_'+str(theta)+'_eta_'+str(eta)+specifier+'.pkl'\n",
    "    with open(directory+'/data/dic-' + name , 'rb') as f:\n",
    "        return pickle.load(f)\n",
    "def load_data(directory):\n",
    "    filenames=os.listdir(directory+\"/data\")\n",
    "    pattern = re.compile(\"dic-theta_\\d*\\.\\d_eta_\\d*\\.\\d|\\d.pkl\")\n",
    "\n",
    "    dictnames=[name  for name in filenames if pattern.match(name)]# select only dictionary files\n",
    "    print(' Results are available in the files:')\n",
    "    params = []\n",
    "    for filename in dictnames:\n",
    "        params+=[filename.lstrip('dic-theta_').rstrip('.pkl').split('_eta_')]\n",
    "    params = pd.DataFrame(params,columns= ['theta','eta'],dtype=float).sort_values(by = ['theta','eta'])\n",
    "    latexify.latexify(columns = 2)\n",
    "    mean_mean = []\n",
    "    mean_cav = []\n",
    "    for theta, eta in params.values:\n",
    "        dic = load_obj(theta,eta)\n",
    "        mean_mean+= [dic['mean_mean']]\n",
    "        mean_cav += [dic['mean_cav']]\n",
    "    mean_cav = np.array(mean_cav)\n",
    "    mean_mean = np.array(mean_mean)\n",
    "    return params,mean_cav,mean_mean"
   ]
  },
  {
   "cell_type": "code",
   "execution_count": 11,
   "metadata": {
    "scrolled": false
   },
   "outputs": [
    {
     "name": "stdout",
     "output_type": "stream",
     "text": [
      " Results are available in the files:\n"
     ]
    },
    {
     "name": "stderr",
     "output_type": "stream",
     "text": [
      "<ipython-input-11-ae60464e0da2>:11: FutureWarning: Using a non-tuple sequence for multidimensional indexing is deprecated; use `arr[tuple(seq)]` instead of `arr[seq]`. In the future this will be interpreted as an array index, `arr[np.array(seq)]`, which will result either in an error or a different result.\n",
      "  plt.text(0.65,mean_cav[[(params['theta']==0)&(params['eta']==0.5)]]+0.0,'$\\\\vartheta = 0$',c = colors[0],fontsize = 12)\n",
      "<ipython-input-11-ae60464e0da2>:12: FutureWarning: Using a non-tuple sequence for multidimensional indexing is deprecated; use `arr[tuple(seq)]` instead of `arr[seq]`. In the future this will be interpreted as an array index, `arr[np.array(seq)]`, which will result either in an error or a different result.\n",
      "  plt.text(0.65,mean_cav[[(params['theta']==0.5)&(params['eta']==0.5)]]-0.1, '$\\\\vartheta/J = 0.5$',c = colors[2],fontsize = 12)\n"
     ]
    },
    {
     "data": {
      "image/png": "[encoded data removed]",
      "text/plain": [
       "<Figure size 244.08x150.85 with 1 Axes>"
      ]
     },
     "metadata": {
      "needs_background": "light"
     },
     "output_type": "display_data"
    }
   ],
   "source": [
    "directory = 'gamma=3'\n",
    "params,mean_cav,mean_mean = load_data(directory)\n",
    "prop_cycle = plt.rcParams['axes.prop_cycle']\n",
    "colors = prop_cycle.by_key()['color']\n",
    "etas = 1-np.array(list(params['eta'][params['theta']==0]))\n",
    "plt.plot(etas,mean_cav[params['theta']==0],'--^',c = colors[0],label = 'cav.')\n",
    "plt.plot(etas,mean_mean[params['theta']==0],'s',c = colors[0],mfc= 'w',alpha = 0.5,label = 'nMF')\n",
    "etas = 1-np.array(list(params['eta'][params['theta']==0.5]))\n",
    "plt.plot(etas,mean_cav[params['theta']==0.5],'--^',c = colors[2])\n",
    "plt.plot(etas,mean_mean[params['theta']==0.5],'s',c = colors[2],mfc= 'w',alpha = 0.5)\n",
    "plt.text(0.65,mean_cav[[(params['theta']==0)&(params['eta']==0.5)]]+0.0,'$\\\\vartheta = 0$',c = colors[0],fontsize = 12)\n",
    "plt.text(0.65,mean_cav[[(params['theta']==0.5)&(params['eta']==0.5)]]-0.1, '$\\\\vartheta/J = 0.5$',c = colors[2],fontsize = 12)\n",
    "plt.ylabel('$\\\\langle P\\\\rangle$',fontsize = 13)\n",
    "plt.xlabel('$\\\\eta$',fontsize = 13)\n",
    "plt.legend(ncol = 2,fontsize = 10.5,numpoints = 1,columnspacing=1)\n",
    "plt.tight_layout()\n",
    "#plt.savefig(directory+'_mean_field.pdf')"
   ]
  },
  {
   "cell_type": "code",
   "execution_count": 4,
   "metadata": {},
   "outputs": [
    {
     "name": "stdout",
     "output_type": "stream",
     "text": [
      " Results are available in the files:\n"
     ]
    },
    {
     "data": {
      "text/html": [
       "<div>\n",
       "<style scoped>\n",
       "    .dataframe tbody tr th:only-of-type {\n",
       "        vertical-align: middle;\n",
       "    }\n",
       "\n",
       "    .dataframe tbody tr th {\n",
       "        vertical-align: top;\n",
       "    }\n",
       "\n",
       "    .dataframe thead th {\n",
       "        text-align: right;\n",
       "    }\n",
       "</style>\n",
       "<table border=\"1\" class=\"dataframe\">\n",
       "  <thead>\n",
       "    <tr style=\"text-align: right;\">\n",
       "      <th></th>\n",
       "      <th>theta</th>\n",
       "      <th>eta</th>\n",
       "    </tr>\n",
       "  </thead>\n",
       "  <tbody>\n",
       "    <tr>\n",
       "      <th>9</th>\n",
       "      <td>0.0</td>\n",
       "      <td>0.1</td>\n",
       "    </tr>\n",
       "    <tr>\n",
       "      <th>3</th>\n",
       "      <td>0.0</td>\n",
       "      <td>0.3</td>\n",
       "    </tr>\n",
       "    <tr>\n",
       "      <th>2</th>\n",
       "      <td>0.0</td>\n",
       "      <td>0.5</td>\n",
       "    </tr>\n",
       "    <tr>\n",
       "      <th>0</th>\n",
       "      <td>0.0</td>\n",
       "      <td>0.7</td>\n",
       "    </tr>\n",
       "    <tr>\n",
       "      <th>6</th>\n",
       "      <td>0.0</td>\n",
       "      <td>0.9</td>\n",
       "    </tr>\n",
       "    <tr>\n",
       "      <th>8</th>\n",
       "      <td>0.5</td>\n",
       "      <td>0.1</td>\n",
       "    </tr>\n",
       "    <tr>\n",
       "      <th>4</th>\n",
       "      <td>0.5</td>\n",
       "      <td>0.3</td>\n",
       "    </tr>\n",
       "    <tr>\n",
       "      <th>1</th>\n",
       "      <td>0.5</td>\n",
       "      <td>0.5</td>\n",
       "    </tr>\n",
       "    <tr>\n",
       "      <th>7</th>\n",
       "      <td>0.5</td>\n",
       "      <td>0.7</td>\n",
       "    </tr>\n",
       "    <tr>\n",
       "      <th>5</th>\n",
       "      <td>0.5</td>\n",
       "      <td>0.9</td>\n",
       "    </tr>\n",
       "  </tbody>\n",
       "</table>\n",
       "</div>"
      ],
      "text/plain": [
       "   theta  eta\n",
       "9    0.0  0.1\n",
       "3    0.0  0.3\n",
       "2    0.0  0.5\n",
       "0    0.0  0.7\n",
       "6    0.0  0.9\n",
       "8    0.5  0.1\n",
       "4    0.5  0.3\n",
       "1    0.5  0.5\n",
       "7    0.5  0.7\n",
       "5    0.5  0.9"
      ]
     },
     "execution_count": 4,
     "metadata": {},
     "output_type": "execute_result"
    }
   ],
   "source": [
    "params,mean_cav,mean_mean = load_data(directory)\n",
    "params"
   ]
  },
  {
   "cell_type": "code",
   "execution_count": 12,
   "metadata": {},
   "outputs": [
    {
     "name": "stdout",
     "output_type": "stream",
     "text": [
      " Results are available in the files:\n"
     ]
    },
    {
     "data": {
      "text/plain": [
       "[0.1, 0.3, 0.5, 0.7, 0.9]"
      ]
     },
     "execution_count": 12,
     "metadata": {},
     "output_type": "execute_result"
    }
   ],
   "source": [
    "directory = 'kin=3'\n",
    "params,mean_cav,mean_mean = load_data(directory)\n",
    "prop_cycle = plt.rcParams['axes.prop_cycle']\n",
    "colors = prop_cycle.by_key()['color']\n",
    "params\n",
    "list(params['eta'][params['theta']==0.5])"
   ]
  },
  {
   "cell_type": "code",
   "execution_count": 14,
   "metadata": {},
   "outputs": [
    {
     "name": "stderr",
     "output_type": "stream",
     "text": [
      "<ipython-input-14-19022af1e2e0>:7: FutureWarning: Using a non-tuple sequence for multidimensional indexing is deprecated; use `arr[tuple(seq)]` instead of `arr[seq]`. In the future this will be interpreted as an array index, `arr[np.array(seq)]`, which will result either in an error or a different result.\n",
      "  plt.text(0.35,mean_cav[[(params['theta']==0)&(params['eta']==0.3)]]-0.15,'$\\\\vartheta = 0$',c = colors[0],fontsize = 12)\n",
      "<ipython-input-14-19022af1e2e0>:8: FutureWarning: Using a non-tuple sequence for multidimensional indexing is deprecated; use `arr[tuple(seq)]` instead of `arr[seq]`. In the future this will be interpreted as an array index, `arr[np.array(seq)]`, which will result either in an error or a different result.\n",
      "  plt.text(0.35,mean_cav[[(params['theta']==0.5)&(params['eta']==0.3)]]-0.52,'$\\\\vartheta/J = 0.5$',c = colors[2],fontsize = 12)\n"
     ]
    },
    {
     "data": {
      "image/png": "[encoded data removed]",
      "text/plain": [
       "<Figure size 244.08x150.85 with 1 Axes>"
      ]
     },
     "metadata": {
      "needs_background": "light"
     },
     "output_type": "display_data"
    }
   ],
   "source": [
    "etas = 1-np.array(list(params['eta'][params['theta']==0]))\n",
    "plt.plot(etas,mean_cav[params['theta']==0],'--^',c = colors[0],label = 'cav.')\n",
    "plt.plot(etas,mean_mean[params['theta']==0],'s',c = colors[0],mfc= 'w',alpha = 0.5,label = 'nMF')\n",
    "etas = 1-np.array(list(params['eta'][params['theta']==0.5]))\n",
    "plt.plot(etas,mean_cav[params['theta']==0.5],'--^',c = colors[2])\n",
    "plt.plot(etas,mean_mean[params['theta']==0.5],'s',c = colors[2],mfc= 'w',alpha = 0.5)\n",
    "plt.text(0.35,mean_cav[[(params['theta']==0)&(params['eta']==0.3)]]-0.15,'$\\\\vartheta = 0$',c = colors[0],fontsize = 12)\n",
    "plt.text(0.35,mean_cav[[(params['theta']==0.5)&(params['eta']==0.3)]]-0.52,'$\\\\vartheta/J = 0.5$',c = colors[2],fontsize = 12)\n",
    "plt.ylabel('$\\\\langle P\\\\rangle$',fontsize = 13)\n",
    "plt.xlabel('$\\\\eta$',fontsize = 13)\n",
    "plt.legend(ncol = 2,fontsize = 10.5,numpoints = 1)\n",
    "plt.tight_layout()\n",
    "#plt.savefig(directory+'_mean_field.pdf')"
   ]
  },
  {
   "cell_type": "code",
   "execution_count": 27,
   "metadata": {},
   "outputs": [
    {
     "data": {
      "text/plain": [
       "'#1f77b4'"
      ]
     },
     "execution_count": 27,
     "metadata": {},
     "output_type": "execute_result"
    }
   ],
   "source": [
    "prop_cycle = plt.rcParams['axes.prop_cycle']\n",
    "colors = prop_cycle.by_key()['color']\n",
    "colors[0]"
   ]
  },
  {
   "cell_type": "markdown",
   "metadata": {},
   "source": [
    "$$\n",
    "\\frac{1}{2}\\left[ 1+P_j \\tanh\\frac{\\beta(\\pm J-\\theta)}{2}-(1-P_j)\\tanh\\frac{\\beta(\\theta)}{2}\\right]\n",
    "$$"
   ]
  },
  {
   "cell_type": "code",
   "execution_count": 148,
   "metadata": {},
   "outputs": [],
   "source": [
    "def mean_field(P, js, T, interaction, N, Ks, theta=0, precision=1e-4, max_iter=50):\n",
    "    \"\"\"\n",
    "    Run the dynamical cavity with recursive calls.\n",
    "    :param P_init: list of floats of length N\n",
    "    :param T: float\n",
    "    :param J: sparse.csr_matrix\n",
    "    :param theta: float (in units of 1/sqrt(<K>))\n",
    "    :param max_iter: int\n",
    "    :param precision: float\n",
    "    :return: P_new it is a  list of dimensions N which contains the probability of active state for each gene.\n",
    "    In order to help storing, couplings are taken to be +-1, bias is then rescaled by 1/sqrt(<|J_{ij}|>)\n",
    "    \"\"\"\n",
    "    avg_degree = np.mean(Ks)\n",
    "    P_new = np.zeros(N)\n",
    "    for count in range(max_iter):\n",
    "        for i,(inter,j) in enumerate(zip(interaction,js)):\n",
    "            P_new[i] = 0.5*(1+np.tanh((sum(inter*P[j])-theta)/2/T/ np.sqrt(avg_degree)))\n",
    "        if max(np.abs(np.array(P) - np.array(P_new))) < precision:\n",
    "            P = P_new\n",
    "            print('finishing after', count, 'iterations')\n",
    "            break\n",
    "        if count == max_iter-1:\n",
    "            print(\"Maximum number of repetition reached, but target  precision has not been reached. \")\n",
    "        P = P_new.copy()\n",
    "\n",
    "    return P\n"
   ]
  },
  {
   "cell_type": "code",
   "execution_count": 155,
   "metadata": {},
   "outputs": [],
   "source": [
    "N = 100000\n",
    "gamma =3#1.81\n",
    "bias = 0.3 #0.379\n",
    "#J = make_network(N,gamma,bias)\n",
    "J = random_regular.make_network(N,3,bias)\n",
    "N = J.shape[0]\n",
    "J.data = np.where(J.data > 0, 1, -1)\n",
    "N = J.shape[0]\n",
    "J_transpose = J.transpose().tolil()\n",
    "js = J_transpose.rows  # list of list, structure is [el[i]] where el[i]\n",
    "# is the list of  predecessors of gene i ( the index)\n",
    "interaction = J_transpose.data  # list of list, structure is [el[i]]\n",
    "# where el[i] is the list of  predecessors of gene i (interaction strength with sign)\n",
    "Ks = np.array([len(neigh) for neigh in js])  # in degree of each gene\n",
    "J0 = 1/np.sqrt(Ks.mean())\n"
   ]
  },
  {
   "cell_type": "markdown",
   "metadata": {},
   "source": [
    "Comparison mean field vs hetherogeneous. Mean field is:\n",
    "$$\n",
    "P_i = \\frac{1}{2}\\left(1+\\tanh \\frac{\\beta}{2}\\sum_j J_{ij}P_j \\right)\n",
    "$$\n"
   ]
  },
  {
   "cell_type": "code",
   "execution_count": 156,
   "metadata": {},
   "outputs": [
    {
     "name": "stdout",
     "output_type": "stream",
     "text": [
      "CPU times: user 6.41 s, sys: 0 ns, total: 6.41 s\n",
      "Wall time: 6.41 s\n",
      "finishing after 31 iterations\n",
      "CPU times: user 20.4 s, sys: 398 ms, total: 20.8 s\n",
      "Wall time: 20.4 s\n"
     ]
    }
   ],
   "source": [
    "theta=0.\n",
    "T=0.2\n",
    "%time P=cavity.cavity(np.random.rand(N), js, T*J0, interaction, N, Ks, theta*J0,J0)\n",
    "%time P_mean=mean_field(np.random.rand(N), js, T*J0, interaction, N, Ks, theta*J0)"
   ]
  },
  {
   "cell_type": "code",
   "execution_count": 158,
   "metadata": {},
   "outputs": [
    {
     "data": {
      "text/plain": [
       "(0.7282065971820334, 0.7405707221495154, 0.016695400719589526)"
      ]
     },
     "execution_count": 158,
     "metadata": {},
     "output_type": "execute_result"
    },
    {
     "data": {
      "image/png": "[encoded data removed]",
      "text/plain": [
       "<Figure size 244.08x150.85 with 1 Axes>"
      ]
     },
     "metadata": {
      "needs_background": "light"
     },
     "output_type": "display_data"
    }
   ],
   "source": [
    "latexify.latexify(columns = 2)\n",
    "avg_degree = np.mean(Ks)\n",
    "def plus(P):\n",
    "    return 0.5*(1-np.tanh(theta/np.sqrt(avg_degree)/2/T)+P*(np.tanh((1-theta)/np.sqrt(avg_degree)/2/T)+np.tanh(theta/np.sqrt(avg_degree)/2/T)))\n",
    "def minus(P):\n",
    "    return 0.5*(1-np.tanh(theta/np.sqrt(avg_degree)/2/T)+P*(np.tanh((-1-theta)/np.sqrt(avg_degree)/2/T)+np.tanh(theta/np.sqrt(avg_degree)/2/T)))\n",
    "\n",
    "h,b = np.histogram(P_mean,np.linspace(0,1,100),density=True)\n",
    "plt.plot(b[:-1],h,label = 'nMF')\n",
    "h,b = np.histogram(P,bins = b,density=True)\n",
    "plt.plot(b[:-1],h,'-',alpha = 1.,label = 'cav.')\n",
    "plt.legend(loc = 'upper center',ncol = 2,fontsize = 10.5)\n",
    "\n",
    "'''\n",
    "x = (1-np.tanh(theta/np.sqrt(avg_degree)/2/T))/(2-(np.tanh((1-theta)/np.sqrt(avg_degree)/2/T)+np.tanh(theta/np.sqrt(avg_degree)/2/T)))\n",
    "y = (1-np.tanh(theta/np.sqrt(avg_degree)/2/T))/(2-(np.tanh((-1-theta)/np.sqrt(avg_degree)/2/T)+np.tanh(theta/np.sqrt(avg_degree)/2/T)))\n",
    "\n",
    "plt.axvline(x)\n",
    "plt.axvline(y, ls = ':', c= 'r')\n",
    "plt.axvline(plus(y), ls = ':', c= 'r')\n",
    "plt.axvline(minus(x),ls = '--')\n",
    "plt.axvline(minus(minus(x)),ls = '-.')\n",
    "plt.axvline(plus(minus(x)),ls = '-.')\n",
    "'''\n",
    "plt.semilogy()\n",
    "plt.xlabel('$P$',fontsize = 13)\n",
    "plt.ylabel('$\\\\Pi(P)$',fontsize = 13)\n",
    "plt.tight_layout()\n",
    "#plt.savefig('random_regular_comparison.pdf')\n",
    "#plt.savefig('power_law_comparison.pdf')\n",
    "np.mean(P),np.mean(P_mean),1-abs(np.mean(P)/np.mean(P_mean))"
   ]
  },
  {
   "cell_type": "code",
   "execution_count": 104,
   "metadata": {},
   "outputs": [
    {
     "data": {
      "text/plain": [
       "(0.9119935574084287, 0.5773502691896258)"
      ]
     },
     "execution_count": 104,
     "metadata": {},
     "output_type": "execute_result"
    }
   ],
   "source": [
    "1/np.sqrt(np.mean(Ks)),1/np.sqrt(3)"
   ]
  },
  {
   "cell_type": "code",
   "execution_count": 103,
   "metadata": {},
   "outputs": [
    {
     "data": {
      "text/plain": [
       "1.20231"
      ]
     },
     "execution_count": 103,
     "metadata": {},
     "output_type": "execute_result"
    },
    {
     "data": {
      "image/png": "[encoded data removed]",
      "text/plain": [
       "<Figure size 244.08x150.85 with 1 Axes>"
      ]
     },
     "metadata": {
      "needs_background": "light"
     },
     "output_type": "display_data"
    }
   ],
   "source": [
    "_ = plt.hist(Ks,100)\n"
   ]
  },
  {
   "cell_type": "code",
   "execution_count": 105,
   "metadata": {},
   "outputs": [
    {
     "data": {
      "text/html": [
       "<div>\n",
       "<style scoped>\n",
       "    .dataframe tbody tr th:only-of-type {\n",
       "        vertical-align: middle;\n",
       "    }\n",
       "\n",
       "    .dataframe tbody tr th {\n",
       "        vertical-align: top;\n",
       "    }\n",
       "\n",
       "    .dataframe thead th {\n",
       "        text-align: right;\n",
       "    }\n",
       "</style>\n",
       "<table border=\"1\" class=\"dataframe\">\n",
       "  <thead>\n",
       "    <tr style=\"text-align: right;\">\n",
       "      <th></th>\n",
       "      <th>theta</th>\n",
       "      <th>eta</th>\n",
       "    </tr>\n",
       "  </thead>\n",
       "  <tbody>\n",
       "    <tr>\n",
       "      <th>2</th>\n",
       "      <td>0.0</td>\n",
       "      <td>0.0</td>\n",
       "    </tr>\n",
       "    <tr>\n",
       "      <th>11</th>\n",
       "      <td>0.0</td>\n",
       "      <td>0.1</td>\n",
       "    </tr>\n",
       "    <tr>\n",
       "      <th>5</th>\n",
       "      <td>0.0</td>\n",
       "      <td>0.3</td>\n",
       "    </tr>\n",
       "    <tr>\n",
       "      <th>4</th>\n",
       "      <td>0.0</td>\n",
       "      <td>0.5</td>\n",
       "    </tr>\n",
       "    <tr>\n",
       "      <th>1</th>\n",
       "      <td>0.0</td>\n",
       "      <td>0.7</td>\n",
       "    </tr>\n",
       "    <tr>\n",
       "      <th>8</th>\n",
       "      <td>0.0</td>\n",
       "      <td>0.9</td>\n",
       "    </tr>\n",
       "    <tr>\n",
       "      <th>0</th>\n",
       "      <td>0.5</td>\n",
       "      <td>0.0</td>\n",
       "    </tr>\n",
       "    <tr>\n",
       "      <th>10</th>\n",
       "      <td>0.5</td>\n",
       "      <td>0.1</td>\n",
       "    </tr>\n",
       "    <tr>\n",
       "      <th>6</th>\n",
       "      <td>0.5</td>\n",
       "      <td>0.3</td>\n",
       "    </tr>\n",
       "    <tr>\n",
       "      <th>3</th>\n",
       "      <td>0.5</td>\n",
       "      <td>0.5</td>\n",
       "    </tr>\n",
       "    <tr>\n",
       "      <th>9</th>\n",
       "      <td>0.5</td>\n",
       "      <td>0.7</td>\n",
       "    </tr>\n",
       "    <tr>\n",
       "      <th>7</th>\n",
       "      <td>0.5</td>\n",
       "      <td>1.0</td>\n",
       "    </tr>\n",
       "  </tbody>\n",
       "</table>\n",
       "</div>"
      ],
      "text/plain": [
       "    theta  eta\n",
       "2     0.0  0.0\n",
       "11    0.0  0.1\n",
       "5     0.0  0.3\n",
       "4     0.0  0.5\n",
       "1     0.0  0.7\n",
       "8     0.0  0.9\n",
       "0     0.5  0.0\n",
       "10    0.5  0.1\n",
       "6     0.5  0.3\n",
       "3     0.5  0.5\n",
       "9     0.5  0.7\n",
       "7     0.5  1.0"
      ]
     },
     "execution_count": 105,
     "metadata": {},
     "output_type": "execute_result"
    }
   ],
   "source": [
    "params"
   ]
  },
  {
   "cell_type": "code",
   "execution_count": null,
   "metadata": {},
   "outputs": [],
   "source": []
  }
 ],
 "metadata": {
  "kernelspec": {
   "display_name": "Python 3",
   "language": "python",
   "name": "python3"
  },
  "language_info": {
   "codemirror_mode": {
    "name": "ipython",
    "version": 3
   },
   "file_extension": ".py",
   "mimetype": "text/x-python",
   "name": "python",
   "nbconvert_exporter": "python",
   "pygments_lexer": "ipython3",
   "version": "3.8.8"
  }
 },
 "nbformat": 4,
 "nbformat_minor": 2
}
