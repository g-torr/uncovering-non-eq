{
 "cells": [
  {
   "cell_type": "code",
   "execution_count": 1,
   "id": "8baa51cc",
   "metadata": {},
   "outputs": [],
   "source": [
    "import numpy as np\n",
    "import matplotlib.pyplot as plt\n",
    "import sys\n",
    "sys.path.insert(0, \"../../lib\")  # add the library folder to the path I look for modules\n",
    "import latexify\n",
    "import itertools\n",
    "import networkx as nx\n",
    "import scipy\n",
    "%matplotlib inline\n",
    "import cupy as cp\n",
    "from cupyx.scipy.sparse import csr_matrix as csr_gpu\n"
   ]
  },
  {
   "cell_type": "code",
   "execution_count": 2,
   "id": "48fed8b5",
   "metadata": {},
   "outputs": [
    {
     "data": {
      "text/plain": [
       "'/home/giuseppe/Documents/Github/uncovering-non-eq/section_4/trajectory'"
      ]
     },
     "execution_count": 2,
     "metadata": {},
     "output_type": "execute_result"
    }
   ],
   "source": [
    "pwd"
   ]
  },
  {
   "cell_type": "code",
   "execution_count": 3,
   "id": "3a38e5f4",
   "metadata": {},
   "outputs": [],
   "source": [
    "def make_network( N,kin):\n",
    "    G = nx.generators.degree_seq.directed_configuration_model([kin]*N, [kin]*N)\n",
    "    G = nx.DiGraph(G)\n",
    "    G.remove_edges_from(nx.selfloop_edges(G))\n",
    "    J = nx.adjacency_matrix(G)\n",
    "    sign_interaction = np.where(np.random.rand(J.nnz) > 0.5, 1, -1) /np.sqrt(kin) # bias in positive regulation\n",
    "    J.data = sign_interaction\n",
    "    return J\n",
    "N = 10000\n",
    "kin = 2\n",
    "T = 0.2\n",
    "J = make_network(N, kin)"
   ]
  },
  {
   "cell_type": "code",
   "execution_count": 4,
   "id": "47bbdfcd",
   "metadata": {},
   "outputs": [],
   "source": [
    "def replics_gpu(J, P_init, T, N_replics,N_iterations):\n",
    "    '''Simulation at fixed T for different replicas\n",
    "    Initial condition is chosen to be the same as for cavity'''\n",
    "    '''\n",
    "    if threads < 0:\n",
    "        pool = Pool()\n",
    "    else:\n",
    "        pool = Pool(int(threads))\n",
    "    '''\n",
    "    initial_states = cp.where(cp.random.rand(N_replics,N,dtype=cp.float32) > P_init, 1, 0)\n",
    "    data = itertools.starmap(dynamics_gpu, itertools.product([J], initial_states, [T], [N_iterations]))\n",
    "    # for replica in range(N_replic):\n",
    "    #        data+=[dynamics_light(J,psi_init,T)]\n",
    "    #pool.close()\n",
    "    cutoff_correlation = 1000\n",
    "    C_run_mean = np.zeros(N_iterations)\n",
    "    C = np.zeros((N,N_iterations))\n",
    "    m = cp.zeros(N)\n",
    "    for trj in data:\n",
    "        m+=cp.mean(trj,axis = 1) \n",
    "        for ind,a in enumerate(trj):\n",
    "            a = a-cp.mean(a)\n",
    "            C[ind]+= cp.correlate(a,a,'same').get()\n",
    "    C_run_mean=C/N_replics\n",
    "    lag = np.arange(-np.floor(C.shape[1]/2),np.floor(C.shape[1]/2+0.5),dtype = int)\n",
    "    N_denominator = N_iterations-np.abs(lag) #number of terms in the sum\n",
    "    return (C_run_mean/N_denominator)[:,(lag>-1)&(lag<cutoff_correlation)],m.get()/N_replics\n",
    "\n",
    "def dynamics_gpu(J, n, T,N_iterations):\n",
    "    if not (type(J) is csr_gpu):\n",
    "        #print('Coupling matrix should be of type'+str(csr_gpu)+', I try to convert')\n",
    "        J = csr_gpu(J)\n",
    "    #local_state = cp.random.seed(seed)\n",
    "    N1 = J.shape[0]\n",
    "    N_therm = 100\n",
    "    t = 0\n",
    "    while t < N_therm:\n",
    "        z = cp.random.logistic(0, T , (1, N1))\n",
    "        # z=numpy.random.normal(0,2*T,(1,N1))\n",
    "        a = n * J - z\n",
    "        n = cp.where(a > 0, 1, 0.)[0]\n",
    "        t += 1\n",
    "    t = 0\n",
    "    #m = cp.zeros(N1)\n",
    "    trj = cp.zeros((N1,N_iterations))\n",
    "    while t < N_iterations:\n",
    "        z = cp.random.logistic(0, T , (1, N1),dtype=cp.float32)\n",
    "        # z=numpy.random.normal(0,2*T,(1,N1))\n",
    "        a = n * J - z\n",
    "        n = cp.where(a > 0, 1, 0.)[0]\n",
    "        trj[:,t]= n\n",
    "        t += 1\n",
    "    return trj\n",
    "\n",
    "def replics_parallel(J, P_init, T, N_replics,N_iterations,threads):\n",
    "    if threads < 0:\n",
    "        pool = Pool()\n",
    "    else:\n",
    "        pool = Pool(int(threads))\n",
    "    '''Simulation at fixed T for different replicas\n",
    "    Initial condition is chosen to be the same as for cavity'''\n",
    "    different_seed = np.random.randint(1, 2 ** 32 - 1, N_replics)\n",
    "    data = pool.starmap(dynamics_light_parallel, itertools.product([J], [P_init], [T], different_seed, [N_iterations]))\n",
    "    # for replica in range(N_replic):\n",
    "    #        data+=[dynamics_light(J,psi_init,T)]\n",
    "    pool.close()\n",
    "    return data\n",
    "\n",
    "def dynamics_light_parallel(J, P_init, T, seed,N_iterations):\n",
    "    local_state = np.random.RandomState(seed)\n",
    "    N1 = J.shape[0]\n",
    "    N_therm = 100\n",
    "    n_start = np.where(np.random.rand(N1) > P_init, 1, 0)\n",
    "    n = scipy.sparse.csr_matrix(n_start)\n",
    "    t = 1\n",
    "    while t < N_therm:\n",
    "        z = local_state.logistic(0, T, (1, N1))\n",
    "        # z=numpy.random.normal(0,2*T,(1,N1))\n",
    "        a = (n * J).toarray() - z\n",
    "        n = np.where(a > 0, 1, 0)\n",
    "        n = scipy.sparse.csr_matrix(n)\n",
    "        t += 1\n",
    "    t = 0\n",
    "    #N_iterations =max(int(np.log(1-alpha)/np.log(0.5*(1+np.tanh(1/2/T)))),1000)# number iterations grows at low temperature. See notes\n",
    "\n",
    "    trj = np.zeros((N1,N_iterations))\n",
    "    time_average=0\n",
    "    while t < N_iterations:\n",
    "        z = local_state.logistic(0, T , (1, N1))\n",
    "        # z=numpy.random.normal(0,2*T,(1,N1))\n",
    "        a = (n * J).toarray() - z\n",
    "        n = np.squeeze(np.where(a > 0, 1, 0))\n",
    "        trj[:,t]= n\n",
    "        n = scipy.sparse.csr_matrix(n)\n",
    "        t += 1\n",
    "    return trj"
   ]
  },
  {
   "cell_type": "code",
   "execution_count": 5,
   "id": "918d921c",
   "metadata": {},
   "outputs": [],
   "source": [
    "N_replics = 1\n",
    "N_iterations = 10000\n",
    "C,P = replics_gpu(J, cp.random.rand(N), T, N_replics,N_iterations)"
   ]
  },
  {
   "cell_type": "code",
   "execution_count": 6,
   "id": "9b6bd773",
   "metadata": {},
   "outputs": [
    {
     "data": {
      "text/plain": [
       "((1000,), (10000, 1000))"
      ]
     },
     "execution_count": 6,
     "metadata": {},
     "output_type": "execute_result"
    }
   ],
   "source": [
    "c= (C.T/C[:,0]).T \n",
    "c.mean(axis = 0).shape,C.shape\n"
   ]
  },
  {
   "cell_type": "code",
   "execution_count": 7,
   "id": "05366bc9",
   "metadata": {},
   "outputs": [],
   "source": [
    "import seaborn as sns"
   ]
  },
  {
   "cell_type": "code",
   "execution_count": 10,
   "id": "8eca2a55",
   "metadata": {},
   "outputs": [
    {
     "data": {
      "image/png": "[encoded data removed]",
      "text/plain": [
       "<Figure size 244.08x150.85 with 2 Axes>"
      ]
     },
     "metadata": {
      "needs_background": "light"
     },
     "output_type": "display_data"
    }
   ],
   "source": [
    "latexify.latexify(columns = 2)\n",
    "#plt.imshow(c[0:,:5],aspect = 'auto',interpolation=None)\n",
    "plt.pcolor(c[0:,:20])\n",
    "plt.xlabel('lag, $\\\\tau$',fontsize = 12)\n",
    "plt.ylabel('node id, $i$',fontsize = 12)\n",
    "cbar = plt.colorbar(pad = 0.015)\n",
    "cbar.set_label(\"$\\\\rho_{ii}(\\\\tau)$\",rotation=90,fontsize=14)\n",
    "plt.tight_layout()\n",
    "#plt.savefig('time_correlation_node.pdf')"
   ]
  },
  {
   "cell_type": "code",
   "execution_count": 35,
   "id": "a7227dea",
   "metadata": {},
   "outputs": [
    {
     "data": {
      "text/plain": [
       "[]"
      ]
     },
     "execution_count": 35,
     "metadata": {},
     "output_type": "execute_result"
    },
    {
     "data": {
      "image/png": "[encoded data removed]",
      "text/plain": [
       "<Figure size 432x288 with 1 Axes>"
      ]
     },
     "metadata": {
      "needs_background": "light"
     },
     "output_type": "display_data"
    }
   ],
   "source": [
    "_ = plt.hist(c[:,2],100,density=True)\n",
    "plt.semilogy()"
   ]
  },
  {
   "cell_type": "code",
   "execution_count": 21,
   "id": "a4f8f8e4",
   "metadata": {},
   "outputs": [
    {
     "data": {
      "text/plain": [
       "6"
      ]
     },
     "execution_count": 21,
     "metadata": {},
     "output_type": "execute_result"
    }
   ],
   "source": [
    "np.count_nonzero((J**2).diagonal())"
   ]
  },
  {
   "cell_type": "code",
   "execution_count": 12,
   "id": "26bd949f",
   "metadata": {},
   "outputs": [
    {
     "data": {
      "image/png": "[encoded data removed]",
      "text/plain": [
       "<Figure size 244.08x150.85 with 1 Axes>"
      ]
     },
     "metadata": {
      "needs_background": "light"
     },
     "output_type": "display_data"
    }
   ],
   "source": [
    "latexify.latexify(columns = 2)\n",
    "plt.plot(np.abs(c.mean(axis = 0))[:20],'-o')\n",
    "plt.xlabel('lag, $\\\\tau$',fontsize = 12)\n",
    "plt.ylabel('$\\langle \\\\rho(\\\\tau)\\\\rangle$',fontsize = 12)\n",
    "#plt.plot((np.abs(c.mean(axis = 0))+c.std(axis = 0)/np.sqrt(N))[:20])\n",
    "#plt.xlim(0,20)\n",
    "#plt.semilogy()\n",
    "plt.tight_layout()\n",
    "#plt.savefig('time_correlation.pdf')"
   ]
  },
  {
   "cell_type": "code",
   "execution_count": 36,
   "id": "b190f153",
   "metadata": {},
   "outputs": [
    {
     "data": {
      "text/plain": [
       "[<matplotlib.lines.Line2D at 0x7fe818381d30>]"
      ]
     },
     "execution_count": 36,
     "metadata": {},
     "output_type": "execute_result"
    },
    {
     "data": {
      "image/png": "[encoded data removed]",
      "text/plain": [
       "<Figure size 432x288 with 1 Axes>"
      ]
     },
     "metadata": {
      "needs_background": "light"
     },
     "output_type": "display_data"
    }
   ],
   "source": [
    "plt.plot(np.abs(c.std(axis = 0))[:20],'-o')"
   ]
  },
  {
   "cell_type": "code",
   "execution_count": 12,
   "id": "3c9f8efc",
   "metadata": {},
   "outputs": [
    {
     "data": {
      "text/plain": [
       "(1000,)"
      ]
     },
     "execution_count": 12,
     "metadata": {},
     "output_type": "execute_result"
    }
   ],
   "source": [
    "c.std(axis = 0).shape"
   ]
  },
  {
   "cell_type": "code",
   "execution_count": 4,
   "id": "01aa9556",
   "metadata": {},
   "outputs": [],
   "source": [
    "seed = np.random.randint(1, 2 ** 32 - 1)\n",
    "N_iterations = 10000\n",
    "trj = dynamics_light_parallel(J, [0.5]*N, T, seed,N_iterations)\n",
    "P = np.mean(trj,axis = 1)"
   ]
  },
  {
   "cell_type": "code",
   "execution_count": 5,
   "id": "5e638c1d",
   "metadata": {},
   "outputs": [],
   "source": [
    "C = np.zeros((N,N_iterations))\n",
    "for ind,a in enumerate(trj):\n",
    "    a = a-np.mean(a)\n",
    "    C[ind]= np.correlate(a,a,'same')\n",
    "lag = np.arange(-np.floor(C.shape[1]/2),np.floor(C.shape[1]/2+0.5),dtype = int)\n",
    "#N_denominator = len(C_mean)-np.abs(lag) #number of terms in the sum\n",
    "#C = N_denominator"
   ]
  },
  {
   "cell_type": "code",
   "execution_count": 6,
   "id": "e03c6dd8",
   "metadata": {},
   "outputs": [
    {
     "data": {
      "text/plain": [
       "10000"
      ]
     },
     "execution_count": 6,
     "metadata": {},
     "output_type": "execute_result"
    }
   ],
   "source": [
    "len(trj[0])\n",
    "len(P)"
   ]
  },
  {
   "cell_type": "code",
   "execution_count": 7,
   "id": "2c984322",
   "metadata": {},
   "outputs": [
    {
     "data": {
      "text/plain": [
       "(10000, 10000)"
      ]
     },
     "execution_count": 7,
     "metadata": {},
     "output_type": "execute_result"
    }
   ],
   "source": [
    "#C[lag == 0]/N_denominator[lag ==0],np.mean(P*(1-P))\n",
    "C.shape"
   ]
  },
  {
   "cell_type": "markdown",
   "id": "bece8fc4",
   "metadata": {},
   "source": [
    "$$\n",
    "C_i(\\tau)=\\frac{1}{N_T-|\\tau|} \\sum_{t=\\tau}^{N_T} (n_i(t)-P_i)(n_i(t-\\tau)-P_i)\n",
    "$$\n",
    "for $\\tau\\in \\lbrace 0,\\dots N_T/2\\rbrace$"
   ]
  },
  {
   "cell_type": "code",
   "execution_count": 6,
   "id": "2ccb6ffe",
   "metadata": {},
   "outputs": [
    {
     "name": "stderr",
     "output_type": "stream",
     "text": [
      "/home/giuseppe/anaconda3/lib/python3.8/site-packages/numpy/core/_asarray.py:171: VisibleDeprecationWarning: Creating an ndarray from ragged nested sequences (which is a list-or-tuple of lists-or-tuples-or ndarrays with different lengths or shapes) is deprecated. If you meant to do this, you must specify 'dtype=object' when creating the ndarray.\n",
      "  return array(a, dtype, copy=False, order=order, subok=True)\n"
     ]
    },
    {
     "ename": "ValueError",
     "evalue": "could not broadcast input array from shape (10000,1000) into shape (10000,)",
     "output_type": "error",
     "traceback": [
      "\u001b[0;31m---------------------------------------------------------------------------\u001b[0m",
      "\u001b[0;31mValueError\u001b[0m                                Traceback (most recent call last)",
      "\u001b[0;32m<ipython-input-6-b8e0194e0bbd>\u001b[0m in \u001b[0;36m<module>\u001b[0;34m\u001b[0m\n\u001b[1;32m      1\u001b[0m \u001b[0mlatexify\u001b[0m\u001b[0;34m.\u001b[0m\u001b[0mlatexify\u001b[0m\u001b[0;34m(\u001b[0m\u001b[0mcolumns\u001b[0m\u001b[0;34m=\u001b[0m\u001b[0;36m2\u001b[0m\u001b[0;34m)\u001b[0m\u001b[0;34m\u001b[0m\u001b[0;34m\u001b[0m\u001b[0m\n\u001b[0;32m----> 2\u001b[0;31m \u001b[0mC_mean\u001b[0m \u001b[0;34m=\u001b[0m \u001b[0mnp\u001b[0m\u001b[0;34m.\u001b[0m\u001b[0mmean\u001b[0m\u001b[0;34m(\u001b[0m\u001b[0mC\u001b[0m\u001b[0;34m,\u001b[0m\u001b[0maxis\u001b[0m \u001b[0;34m=\u001b[0m\u001b[0;36m0\u001b[0m\u001b[0;34m)\u001b[0m\u001b[0;34m\u001b[0m\u001b[0;34m\u001b[0m\u001b[0m\n\u001b[0m\u001b[1;32m      3\u001b[0m \u001b[0mlag\u001b[0m \u001b[0;34m=\u001b[0m \u001b[0mnp\u001b[0m\u001b[0;34m.\u001b[0m\u001b[0marange\u001b[0m\u001b[0;34m(\u001b[0m\u001b[0;34m-\u001b[0m\u001b[0mnp\u001b[0m\u001b[0;34m.\u001b[0m\u001b[0mfloor\u001b[0m\u001b[0;34m(\u001b[0m\u001b[0mlen\u001b[0m\u001b[0;34m(\u001b[0m\u001b[0mC_mean\u001b[0m\u001b[0;34m)\u001b[0m\u001b[0;34m/\u001b[0m\u001b[0;36m2\u001b[0m\u001b[0;34m)\u001b[0m\u001b[0;34m,\u001b[0m\u001b[0mnp\u001b[0m\u001b[0;34m.\u001b[0m\u001b[0mfloor\u001b[0m\u001b[0;34m(\u001b[0m\u001b[0mlen\u001b[0m\u001b[0;34m(\u001b[0m\u001b[0mC_mean\u001b[0m\u001b[0;34m)\u001b[0m\u001b[0;34m/\u001b[0m\u001b[0;36m2\u001b[0m\u001b[0;34m+\u001b[0m\u001b[0;36m0.5\u001b[0m\u001b[0;34m)\u001b[0m\u001b[0;34m,\u001b[0m\u001b[0mdtype\u001b[0m \u001b[0;34m=\u001b[0m \u001b[0mint\u001b[0m\u001b[0;34m)\u001b[0m\u001b[0;34m\u001b[0m\u001b[0;34m\u001b[0m\u001b[0m\n\u001b[1;32m      4\u001b[0m \u001b[0mN_denominator\u001b[0m \u001b[0;34m=\u001b[0m \u001b[0mlen\u001b[0m\u001b[0;34m(\u001b[0m\u001b[0mC_mean\u001b[0m\u001b[0;34m)\u001b[0m\u001b[0;34m-\u001b[0m\u001b[0mnp\u001b[0m\u001b[0;34m.\u001b[0m\u001b[0mabs\u001b[0m\u001b[0;34m(\u001b[0m\u001b[0mlag\u001b[0m\u001b[0;34m)\u001b[0m \u001b[0;31m#number of terms in the sum\u001b[0m\u001b[0;34m\u001b[0m\u001b[0;34m\u001b[0m\u001b[0m\n\u001b[1;32m      5\u001b[0m \u001b[0mplt\u001b[0m\u001b[0;34m.\u001b[0m\u001b[0mplot\u001b[0m\u001b[0;34m(\u001b[0m\u001b[0mlag\u001b[0m\u001b[0;34m,\u001b[0m\u001b[0mnp\u001b[0m\u001b[0;34m.\u001b[0m\u001b[0mabs\u001b[0m\u001b[0;34m(\u001b[0m\u001b[0mC_mean\u001b[0m\u001b[0;34m)\u001b[0m\u001b[0;34m/\u001b[0m\u001b[0mN_denominator\u001b[0m\u001b[0;34m/\u001b[0m\u001b[0;34m(\u001b[0m\u001b[0mC_mean\u001b[0m\u001b[0;34m[\u001b[0m\u001b[0mlag\u001b[0m \u001b[0;34m==\u001b[0m \u001b[0;36m0\u001b[0m\u001b[0;34m]\u001b[0m\u001b[0;34m/\u001b[0m\u001b[0mN_denominator\u001b[0m\u001b[0;34m[\u001b[0m\u001b[0mlag\u001b[0m \u001b[0;34m==\u001b[0m\u001b[0;36m0\u001b[0m\u001b[0;34m]\u001b[0m\u001b[0;34m)\u001b[0m\u001b[0;34m,\u001b[0m\u001b[0;34m'-o'\u001b[0m\u001b[0;34m)\u001b[0m\u001b[0;34m\u001b[0m\u001b[0;34m\u001b[0m\u001b[0m\n",
      "\u001b[0;32m<__array_function__ internals>\u001b[0m in \u001b[0;36mmean\u001b[0;34m(*args, **kwargs)\u001b[0m\n",
      "\u001b[0;32m~/anaconda3/lib/python3.8/site-packages/numpy/core/fromnumeric.py\u001b[0m in \u001b[0;36mmean\u001b[0;34m(a, axis, dtype, out, keepdims, where)\u001b[0m\n\u001b[1;32m   3417\u001b[0m             \u001b[0;32mreturn\u001b[0m \u001b[0mmean\u001b[0m\u001b[0;34m(\u001b[0m\u001b[0maxis\u001b[0m\u001b[0;34m=\u001b[0m\u001b[0maxis\u001b[0m\u001b[0;34m,\u001b[0m \u001b[0mdtype\u001b[0m\u001b[0;34m=\u001b[0m\u001b[0mdtype\u001b[0m\u001b[0;34m,\u001b[0m \u001b[0mout\u001b[0m\u001b[0;34m=\u001b[0m\u001b[0mout\u001b[0m\u001b[0;34m,\u001b[0m \u001b[0;34m**\u001b[0m\u001b[0mkwargs\u001b[0m\u001b[0;34m)\u001b[0m\u001b[0;34m\u001b[0m\u001b[0;34m\u001b[0m\u001b[0m\n\u001b[1;32m   3418\u001b[0m \u001b[0;34m\u001b[0m\u001b[0m\n\u001b[0;32m-> 3419\u001b[0;31m     return _methods._mean(a, axis=axis, dtype=dtype,\n\u001b[0m\u001b[1;32m   3420\u001b[0m                           out=out, **kwargs)\n\u001b[1;32m   3421\u001b[0m \u001b[0;34m\u001b[0m\u001b[0m\n",
      "\u001b[0;32m~/anaconda3/lib/python3.8/site-packages/numpy/core/_methods.py\u001b[0m in \u001b[0;36m_mean\u001b[0;34m(a, axis, dtype, out, keepdims, where)\u001b[0m\n\u001b[1;32m    160\u001b[0m \u001b[0;34m\u001b[0m\u001b[0m\n\u001b[1;32m    161\u001b[0m \u001b[0;32mdef\u001b[0m \u001b[0m_mean\u001b[0m\u001b[0;34m(\u001b[0m\u001b[0ma\u001b[0m\u001b[0;34m,\u001b[0m \u001b[0maxis\u001b[0m\u001b[0;34m=\u001b[0m\u001b[0;32mNone\u001b[0m\u001b[0;34m,\u001b[0m \u001b[0mdtype\u001b[0m\u001b[0;34m=\u001b[0m\u001b[0;32mNone\u001b[0m\u001b[0;34m,\u001b[0m \u001b[0mout\u001b[0m\u001b[0;34m=\u001b[0m\u001b[0;32mNone\u001b[0m\u001b[0;34m,\u001b[0m \u001b[0mkeepdims\u001b[0m\u001b[0;34m=\u001b[0m\u001b[0;32mFalse\u001b[0m\u001b[0;34m,\u001b[0m \u001b[0;34m*\u001b[0m\u001b[0;34m,\u001b[0m \u001b[0mwhere\u001b[0m\u001b[0;34m=\u001b[0m\u001b[0;32mTrue\u001b[0m\u001b[0;34m)\u001b[0m\u001b[0;34m:\u001b[0m\u001b[0;34m\u001b[0m\u001b[0;34m\u001b[0m\u001b[0m\n\u001b[0;32m--> 162\u001b[0;31m     \u001b[0marr\u001b[0m \u001b[0;34m=\u001b[0m \u001b[0masanyarray\u001b[0m\u001b[0;34m(\u001b[0m\u001b[0ma\u001b[0m\u001b[0;34m)\u001b[0m\u001b[0;34m\u001b[0m\u001b[0;34m\u001b[0m\u001b[0m\n\u001b[0m\u001b[1;32m    163\u001b[0m \u001b[0;34m\u001b[0m\u001b[0m\n\u001b[1;32m    164\u001b[0m     \u001b[0mis_float16_result\u001b[0m \u001b[0;34m=\u001b[0m \u001b[0;32mFalse\u001b[0m\u001b[0;34m\u001b[0m\u001b[0;34m\u001b[0m\u001b[0m\n",
      "\u001b[0;32m~/anaconda3/lib/python3.8/site-packages/numpy/core/_asarray.py\u001b[0m in \u001b[0;36masanyarray\u001b[0;34m(a, dtype, order, like)\u001b[0m\n\u001b[1;32m    169\u001b[0m         \u001b[0;32mreturn\u001b[0m \u001b[0m_asanyarray_with_like\u001b[0m\u001b[0;34m(\u001b[0m\u001b[0ma\u001b[0m\u001b[0;34m,\u001b[0m \u001b[0mdtype\u001b[0m\u001b[0;34m=\u001b[0m\u001b[0mdtype\u001b[0m\u001b[0;34m,\u001b[0m \u001b[0morder\u001b[0m\u001b[0;34m=\u001b[0m\u001b[0morder\u001b[0m\u001b[0;34m,\u001b[0m \u001b[0mlike\u001b[0m\u001b[0;34m=\u001b[0m\u001b[0mlike\u001b[0m\u001b[0;34m)\u001b[0m\u001b[0;34m\u001b[0m\u001b[0;34m\u001b[0m\u001b[0m\n\u001b[1;32m    170\u001b[0m \u001b[0;34m\u001b[0m\u001b[0m\n\u001b[0;32m--> 171\u001b[0;31m     \u001b[0;32mreturn\u001b[0m \u001b[0marray\u001b[0m\u001b[0;34m(\u001b[0m\u001b[0ma\u001b[0m\u001b[0;34m,\u001b[0m \u001b[0mdtype\u001b[0m\u001b[0;34m,\u001b[0m \u001b[0mcopy\u001b[0m\u001b[0;34m=\u001b[0m\u001b[0;32mFalse\u001b[0m\u001b[0;34m,\u001b[0m \u001b[0morder\u001b[0m\u001b[0;34m=\u001b[0m\u001b[0morder\u001b[0m\u001b[0;34m,\u001b[0m \u001b[0msubok\u001b[0m\u001b[0;34m=\u001b[0m\u001b[0;32mTrue\u001b[0m\u001b[0;34m)\u001b[0m\u001b[0;34m\u001b[0m\u001b[0;34m\u001b[0m\u001b[0m\n\u001b[0m\u001b[1;32m    172\u001b[0m \u001b[0;34m\u001b[0m\u001b[0m\n\u001b[1;32m    173\u001b[0m \u001b[0;34m\u001b[0m\u001b[0m\n",
      "\u001b[0;31mValueError\u001b[0m: could not broadcast input array from shape (10000,1000) into shape (10000,)"
     ]
    }
   ],
   "source": [
    "latexify.latexify(columns=2)\n",
    "C_mean = np.mean(C,axis =0)\n",
    "lag = np.arange(-np.floor(len(C_mean)/2),np.floor(len(C_mean)/2+0.5),dtype = int)\n",
    "N_denominator = len(C_mean)-np.abs(lag) #number of terms in the sum\n",
    "plt.plot(lag,np.abs(C_mean)/N_denominator/(C_mean[lag == 0]/N_denominator[lag ==0]),'-o')\n",
    "\n",
    "plt.xlabel('lag,$\\\\tau$',fontsize = 12)\n",
    "plt.ylabel('$C(\\\\tau)/C(0)$',fontsize = 12)\n",
    "plt.xlim(0,20)\n",
    "plt.semilogy()\n",
    "#plt.tight_layout()\n",
    "#plt.savefig('time_correlation.pdf')"
   ]
  },
  {
   "cell_type": "code",
   "execution_count": 22,
   "id": "39b37c99",
   "metadata": {},
   "outputs": [
    {
     "data": {
      "text/plain": [
       "(0.0, 20.0)"
      ]
     },
     "execution_count": 22,
     "metadata": {},
     "output_type": "execute_result"
    },
    {
     "data": {
      "image/png": "[encoded data removed]",
      "text/plain": [
       "<Figure size 244.08x150.85 with 1 Axes>"
      ]
     },
     "metadata": {
      "needs_background": "light"
     },
     "output_type": "display_data"
    }
   ],
   "source": [
    "plt.plot(lag,np.abs(C_mean)/N_denominator,'-o')\n",
    "plt.xlim(0,20)"
   ]
  },
  {
   "cell_type": "code",
   "execution_count": 20,
   "id": "3190a013",
   "metadata": {},
   "outputs": [
    {
     "data": {
      "text/plain": [
       "array([0., 0., 0., ..., 0., 0., 0.])"
      ]
     },
     "execution_count": 20,
     "metadata": {},
     "output_type": "execute_result"
    }
   ],
   "source": [
    "u = np.unique(np.abs(lag))\n",
    "C_mean[u]-C_mean[-u]"
   ]
  },
  {
   "cell_type": "code",
   "execution_count": 86,
   "id": "7cc281f5",
   "metadata": {},
   "outputs": [
    {
     "data": {
      "text/plain": [
       "(39.05378075999683, array([39.05378076]))"
      ]
     },
     "execution_count": 86,
     "metadata": {},
     "output_type": "execute_result"
    }
   ],
   "source": [
    "sum(a[1:]*a[:-1]),np.correlate(a,a,'same')[lag ==1]"
   ]
  },
  {
   "cell_type": "markdown",
   "id": "316d4e81",
   "metadata": {},
   "source": [
    "Time correlation between states of direct neighbours"
   ]
  },
  {
   "cell_type": "code",
   "execution_count": 31,
   "id": "afb06846",
   "metadata": {},
   "outputs": [],
   "source": [
    "G =nx.from_scipy_sparse_matrix(J,create_using=nx.DiGraph())\n",
    "i,j = zip(*np.sort(G.edges(),axis = 1))"
   ]
  },
  {
   "cell_type": "code",
   "execution_count": 32,
   "id": "c331634a",
   "metadata": {},
   "outputs": [],
   "source": [
    "#spin = 2*trj-1\n",
    "C2 = np.zeros((len(i),N_iterations))\n",
    "for ind,(a,b) in enumerate(zip(trj[np.array(i)],trj[np.array(j)])):\n",
    "    a = a-np.mean(a)\n",
    "    b = b-np.mean(b)\n",
    "    C2[ind]= np.correlate(a,b,'same')\n"
   ]
  },
  {
   "cell_type": "code",
   "execution_count": 38,
   "id": "98339622",
   "metadata": {},
   "outputs": [
    {
     "data": {
      "text/plain": [
       "1999"
      ]
     },
     "execution_count": 38,
     "metadata": {},
     "output_type": "execute_result"
    }
   ],
   "source": [
    "\n",
    "\n",
    "len(np.mean(C2,axis = 1))"
   ]
  },
  {
   "cell_type": "code",
   "execution_count": 39,
   "id": "080daee9",
   "metadata": {},
   "outputs": [
    {
     "ename": "IndexError",
     "evalue": "boolean index did not match indexed array along dimension 1; dimension is 10000 but corresponding boolean dimension is 1999",
     "output_type": "error",
     "traceback": [
      "\u001b[0;31m---------------------------------------------------------------------------\u001b[0m",
      "\u001b[0;31mIndexError\u001b[0m                                Traceback (most recent call last)",
      "\u001b[0;32m<ipython-input-39-1538edd0c18e>\u001b[0m in \u001b[0;36m<module>\u001b[0;34m\u001b[0m\n\u001b[0;32m----> 1\u001b[0;31m \u001b[0mC2_mean\u001b[0m \u001b[0;34m=\u001b[0m \u001b[0mnp\u001b[0m\u001b[0;34m.\u001b[0m\u001b[0mmean\u001b[0m\u001b[0;34m(\u001b[0m\u001b[0;34m(\u001b[0m\u001b[0mC2\u001b[0m\u001b[0;34m.\u001b[0m\u001b[0mT\u001b[0m\u001b[0;34m/\u001b[0m\u001b[0mnp\u001b[0m\u001b[0;34m.\u001b[0m\u001b[0msqrt\u001b[0m\u001b[0;34m(\u001b[0m\u001b[0mC\u001b[0m\u001b[0;34m[\u001b[0m\u001b[0mnp\u001b[0m\u001b[0;34m.\u001b[0m\u001b[0marray\u001b[0m\u001b[0;34m(\u001b[0m\u001b[0mi\u001b[0m\u001b[0;34m)\u001b[0m\u001b[0;34m,\u001b[0m\u001b[0mlag\u001b[0m \u001b[0;34m==\u001b[0m\u001b[0;36m0\u001b[0m\u001b[0;34m]\u001b[0m\u001b[0;34m*\u001b[0m\u001b[0mC\u001b[0m\u001b[0;34m[\u001b[0m\u001b[0mnp\u001b[0m\u001b[0;34m.\u001b[0m\u001b[0marray\u001b[0m\u001b[0;34m(\u001b[0m\u001b[0mj\u001b[0m\u001b[0;34m)\u001b[0m\u001b[0;34m,\u001b[0m\u001b[0mlag\u001b[0m \u001b[0;34m==\u001b[0m\u001b[0;36m0\u001b[0m\u001b[0;34m]\u001b[0m\u001b[0;34m)\u001b[0m\u001b[0;34m)\u001b[0m\u001b[0;34m,\u001b[0m\u001b[0maxis\u001b[0m \u001b[0;34m=\u001b[0m\u001b[0;36m0\u001b[0m\u001b[0;34m)\u001b[0m\u001b[0;34m\u001b[0m\u001b[0;34m\u001b[0m\u001b[0m\n\u001b[0m\u001b[1;32m      2\u001b[0m \u001b[0mlag\u001b[0m \u001b[0;34m=\u001b[0m \u001b[0mnp\u001b[0m\u001b[0;34m.\u001b[0m\u001b[0marange\u001b[0m\u001b[0;34m(\u001b[0m\u001b[0;34m-\u001b[0m\u001b[0mnp\u001b[0m\u001b[0;34m.\u001b[0m\u001b[0mfloor\u001b[0m\u001b[0;34m(\u001b[0m\u001b[0mlen\u001b[0m\u001b[0;34m(\u001b[0m\u001b[0mC2\u001b[0m\u001b[0;34m)\u001b[0m\u001b[0;34m/\u001b[0m\u001b[0;36m2\u001b[0m\u001b[0;34m)\u001b[0m\u001b[0;34m,\u001b[0m\u001b[0mnp\u001b[0m\u001b[0;34m.\u001b[0m\u001b[0mfloor\u001b[0m\u001b[0;34m(\u001b[0m\u001b[0mlen\u001b[0m\u001b[0;34m(\u001b[0m\u001b[0mC2\u001b[0m\u001b[0;34m)\u001b[0m\u001b[0;34m/\u001b[0m\u001b[0;36m2\u001b[0m\u001b[0;34m+\u001b[0m\u001b[0;36m0.5\u001b[0m\u001b[0;34m)\u001b[0m\u001b[0;34m,\u001b[0m\u001b[0mdtype\u001b[0m \u001b[0;34m=\u001b[0m \u001b[0mint\u001b[0m\u001b[0;34m)\u001b[0m\u001b[0;34m\u001b[0m\u001b[0;34m\u001b[0m\u001b[0m\n\u001b[1;32m      3\u001b[0m \u001b[0mN_denominator\u001b[0m \u001b[0;34m=\u001b[0m \u001b[0mlen\u001b[0m\u001b[0;34m(\u001b[0m\u001b[0mC2\u001b[0m\u001b[0;34m)\u001b[0m\u001b[0;34m-\u001b[0m\u001b[0mnp\u001b[0m\u001b[0;34m.\u001b[0m\u001b[0mabs\u001b[0m\u001b[0;34m(\u001b[0m\u001b[0mlag\u001b[0m\u001b[0;34m)\u001b[0m \u001b[0;31m#number of terms in the sum\u001b[0m\u001b[0;34m\u001b[0m\u001b[0;34m\u001b[0m\u001b[0m\n\u001b[1;32m      4\u001b[0m \u001b[0mplt\u001b[0m\u001b[0;34m.\u001b[0m\u001b[0mplot\u001b[0m\u001b[0;34m(\u001b[0m\u001b[0mlag\u001b[0m\u001b[0;34m,\u001b[0m\u001b[0mC2\u001b[0m\u001b[0;34m,\u001b[0m\u001b[0;34m'-o'\u001b[0m\u001b[0;34m)\u001b[0m\u001b[0;34m\u001b[0m\u001b[0;34m\u001b[0m\u001b[0m\n\u001b[1;32m      5\u001b[0m \u001b[0mplt\u001b[0m\u001b[0;34m.\u001b[0m\u001b[0mxlabel\u001b[0m\u001b[0;34m(\u001b[0m\u001b[0;34m'lag,$\\\\tau$'\u001b[0m\u001b[0;34m)\u001b[0m\u001b[0;34m\u001b[0m\u001b[0;34m\u001b[0m\u001b[0m\n",
      "\u001b[0;31mIndexError\u001b[0m: boolean index did not match indexed array along dimension 1; dimension is 10000 but corresponding boolean dimension is 1999"
     ]
    }
   ],
   "source": [
    "C2_mean = np.mean((C2.T/np.sqrt(C[np.array(i),lag ==0]*C[np.array(j),lag ==0])),axis =0)\n",
    "lag = np.arange(-np.floor(len(C2)/2),np.floor(len(C2)/2+0.5),dtype = int)\n",
    "N_denominator = len(C2)-np.abs(lag) #number of terms in the sum\n",
    "plt.plot(lag,C2,'-o')\n",
    "plt.xlabel('lag,$\\\\tau$')\n",
    "plt.ylabel('$\\\\langle C_{ij}(\\\\tau)\\\\rangle/C(0)$')\n",
    "#plt.xlim(-20,20)\n"
   ]
  },
  {
   "cell_type": "code",
   "execution_count": 34,
   "id": "fbbe9dfd",
   "metadata": {},
   "outputs": [
    {
     "name": "stdout",
     "output_type": "stream",
     "text": [
      "[ 26  50  80 115 100  82] [115]\n"
     ]
    },
    {
     "data": {
      "text/plain": [
       "100"
      ]
     },
     "execution_count": 34,
     "metadata": {},
     "output_type": "execute_result"
    }
   ],
   "source": [
    "x = np.arange(6)\n",
    "y = np.arange(4,10)\n",
    "print(np.correlate(x,y,'same'),np.correlate(x,y))\n",
    "sum(x[1:]*y[:-1])"
   ]
  },
  {
   "cell_type": "code",
   "execution_count": 35,
   "id": "bd50ffcc",
   "metadata": {},
   "outputs": [
    {
     "data": {
      "text/plain": [
       "(array([1, 2, 3, 4, 5]), array([0, 1, 2, 3, 4]))"
      ]
     },
     "execution_count": 35,
     "metadata": {},
     "output_type": "execute_result"
    }
   ],
   "source": [
    "x[1:],x[:-1]"
   ]
  },
  {
   "cell_type": "code",
   "execution_count": 179,
   "id": "c45dda27",
   "metadata": {},
   "outputs": [
    {
     "data": {
      "text/plain": [
       "array([3, 4, 5, 4, 3])"
      ]
     },
     "execution_count": 179,
     "metadata": {},
     "output_type": "execute_result"
    }
   ],
   "source": [
    "len(x)-np.abs(np.arange(-np.floor(len(x)/2),np.floor(len(x)/2+0.5),dtype = int))"
   ]
  },
  {
   "cell_type": "code",
   "execution_count": 180,
   "id": "e172888b",
   "metadata": {},
   "outputs": [
    {
     "data": {
      "text/plain": [
       "array([2, 1, 0, 1, 2])"
      ]
     },
     "execution_count": 180,
     "metadata": {},
     "output_type": "execute_result"
    }
   ],
   "source": [
    "np.abs(np.arange(-np.floor(len(x)/2),np.floor(len(x)/2+0.5),dtype = int))"
   ]
  },
  {
   "cell_type": "code",
   "execution_count": 7,
   "id": "aa639390",
   "metadata": {},
   "outputs": [],
   "source": [
    "np.correlate?"
   ]
  },
  {
   "cell_type": "code",
   "execution_count": null,
   "id": "df5b7307",
   "metadata": {},
   "outputs": [],
   "source": []
  }
 ],
 "metadata": {
  "kernelspec": {
   "display_name": "Python 3",
   "language": "python",
   "name": "python3"
  },
  "language_info": {
   "codemirror_mode": {
    "name": "ipython",
    "version": 3
   },
   "file_extension": ".py",
   "mimetype": "text/x-python",
   "name": "python",
   "nbconvert_exporter": "python",
   "pygments_lexer": "ipython3",
   "version": "3.8.8"
  }
 },
 "nbformat": 4,
 "nbformat_minor": 5
}
