{
 "cells": [
  {
   "cell_type": "code",
   "execution_count": 17,
   "id": "a37a61b2",
   "metadata": {},
   "outputs": [],
   "source": [
    "from functools import lru_cache\n",
    "import scipy\n",
    "import numpy as np\n",
    "import pickle\n",
    "import matplotlib.pyplot as plt\n",
    "import cupy as cp\n",
    "from cupyx.scipy.sparse import csr_matrix as csr_gpu\n",
    "import itertools\n",
    "import sys\n",
    "sys.path.insert(0, \"../../lib\") \n",
    "import latexify"
   ]
  },
  {
   "cell_type": "code",
   "execution_count": 35,
   "id": "a88cf955",
   "metadata": {},
   "outputs": [
    {
     "data": {
      "image/png": "[encoded data removed]",
      "text/plain": [
       "<Figure size 244.08x150.85 with 1 Axes>"
      ]
     },
     "metadata": {
      "needs_background": "light"
     },
     "output_type": "display_data"
    }
   ],
   "source": [
    "def load_obj(kin,kind):\n",
    "    directory='kin_'+str(kin)\n",
    "    name=  kind +'.pkl'\n",
    "    with open(directory+'/data/dic-' + name , 'rb') as f:\n",
    "        return pickle.load(f)\n",
    "def load_and_hist(kin,kind):\n",
    "    dic = load_obj(kin,kind)    \n",
    "    P_t_C1 = dic['P_t_C1']\n",
    "    P_t_C2 = dic['P_t_C2']\n",
    "    P_t_C3 = dic['P_t_C3']\n",
    "    P_t_MC = dic['P_t_MC']\n",
    "    J = dic['J']\n",
    "    T = dic['T']\n",
    "    latexify.latexify(columns = 2)\n",
    "    h,b  = np.histogram(P_t_C1-P_t_MC,50,density=True)\n",
    "    plt.plot(b[:-1],h,label = 'C.1')\n",
    "    h,b  = np.histogram(P_t_C2-P_t_MC,50,density= True)\n",
    "    plt.plot(b[:-1],h,label = 'C.2')\n",
    "    h,b  = np.histogram(P_t_C3-P_t_MC,50,density= True)\n",
    "    plt.plot(b[:-1],h,label = 'C.3')\n",
    "    plt.semilogy()\n",
    "    plt.legend(fontsize = 10.5)\n",
    "    plt.xlabel('$P-P_{MC}$',fontsize = 12)\n",
    "    plt.ylabel('$\\Pi(\\cdot)$',fontsize = 12)\n",
    "    \n",
    "kin = 3\n",
    "kind = 'asymmetric'\n",
    "load_and_hist(kin,kind)\n",
    "#plt.title(kind)\n",
    "plt.tight_layout()\n",
    "#plt.savefig('different_OTA_'+kind+'.pdf')"
   ]
  },
  {
   "cell_type": "code",
   "execution_count": 16,
   "id": "b4dae399",
   "metadata": {},
   "outputs": [],
   "source": [
    "\n",
    "def make_network(N,k):\n",
    "    '''generate a fat tailed network'''\n",
    "    #sequence =  generate_degree_seq(gamma,N)\n",
    "    sequence = np.ones(N,dtype=int)*k\n",
    "    if np.sum(sequence)%2==1:\n",
    "        sequence[-1]=sequence[-1]+1\n",
    "    #make oriented network\n",
    "    G = nx.generators.degree_seq.configuration_model(sequence)\n",
    "    G.remove_edges_from(nx.selfloop_edges(G))\n",
    "    J = nx.adjacency_matrix(G)\n",
    "    row = J.tocoo().row\n",
    "    col = J.tocoo().col\n",
    "    cond = row>col\n",
    "    interaction = np.where(np.random.rand(np.count_nonzero(cond))>.5,1.,-1.)\n",
    "    A = scipy.sparse.coo_matrix((interaction,(row[cond],col[cond])),shape = (N,N))\n",
    "    J = (A+A.T).tocsc()\n",
    "    return J\n",
    "def antisymmetric_sign(J):\n",
    "    row = J.tocoo().row\n",
    "    col = J.tocoo().col\n",
    "    cond = row>col\n",
    "    interaction = np.where(np.random.rand(np.count_nonzero(cond))>.5,1,-1).astype(np.float32)\n",
    "    A = scipy.sparse.coo_matrix((interaction,(row[cond],col[cond])),shape = (N,N))\n",
    "    J = (A-A.T).tocsc()\n",
    "    return J\n",
    "\n",
    "def make_epsilon(J):\n",
    "    N = J.shape[0]\n",
    "    row = J.tocoo().row\n",
    "    col = J.tocoo().col\n",
    "    bi_link = set(zip(row,col))&set(zip(col,row))#set of bidirectional link\n",
    "    if len(bi_link)==0:\n",
    "        return scipy.sparse.coo_matrix((N,N))\n",
    "    a,b = zip(*bi_link)\n",
    "    return scipy.sparse.coo_matrix((np.ones(len(a),dtype=bool),(np.array(a),np.array(b))),shape = (N,N)).tocsc()\n",
    "\n",
    "def cavity(P,inter,T,theta):\n",
    "    @lru_cache(maxsize=None)\n",
    "    def recursion(bias, l):\n",
    "        if (l == K):\n",
    "            bias = (bias + theta) #/ np.sqrt(avg_degree)\n",
    "            return np.tanh(bias / 2 / T)\n",
    "\n",
    "        include = P[l] * recursion(bias + inter[l], l + 1)  # include node l with prob. P[j[l]]\n",
    "        exclude = (1 - P[l]) * recursion(bias, l + 1)  # ignore node l\n",
    "        return include + exclude\n",
    "    bias = 0\n",
    "    K = len(inter)\n",
    "    P_new = 0.5 + 0.5 * recursion(bias, 0)\n",
    "    recursion.cache_clear()\n",
    "    return P_new\n"
   ]
  },
  {
   "cell_type": "code",
   "execution_count": 17,
   "id": "69f554a5",
   "metadata": {},
   "outputs": [],
   "source": [
    "N = 10000\n",
    "k = 3\n",
    "T = 1\n",
    "J = make_network(N,k)\n",
    "J = antisymmetric_sign(J)"
   ]
  },
  {
   "cell_type": "code",
   "execution_count": 18,
   "id": "d1806245",
   "metadata": {},
   "outputs": [
    {
     "data": {
      "text/plain": [
       "<matplotlib.colorbar.Colorbar at 0x7f875aeda1c0>"
      ]
     },
     "execution_count": 18,
     "metadata": {},
     "output_type": "execute_result"
    },
    {
     "data": {
      "image/png": "[encoded data removed]",
      "text/plain": [
       "<Figure size 432x288 with 2 Axes>"
      ]
     },
     "metadata": {
      "needs_background": "light"
     },
     "output_type": "display_data"
    }
   ],
   "source": [
    "plt.imshow(J.toarray()[:100,:100])\n",
    "plt.colorbar()"
   ]
  },
  {
   "cell_type": "markdown",
   "id": "72aa0113",
   "metadata": {},
   "source": [
    "Zhang expression"
   ]
  },
  {
   "cell_type": "code",
   "execution_count": 4,
   "id": "81e9568d",
   "metadata": {},
   "outputs": [
    {
     "name": "stdout",
     "output_type": "stream",
     "text": [
      "fraction of symmetric links over total:\n",
      " 1.0\n",
      "ending after  15  iterations\n",
      "CPU times: user 17min 20s, sys: 470 ms, total: 17min 21s\n",
      "Wall time: 17min 21s\n"
     ]
    }
   ],
   "source": [
    "def cavity_iteration(J,T,max_iter = 10,precision = 1e-4):\n",
    "    def probability_upd(i,cond,theta,P_t_2,P_A,P_B):\n",
    "        cav_neigh = np.array(js[i])[cond]\n",
    "\n",
    "        A = cavity(P_A[cav_neigh,i].toarray(),inter = np.array(interaction[i])[cond],T = T,theta=theta)\n",
    "        P_B_temp = np.where(epsilon[cav_neigh,i].toarray(),P_B[cav_neigh,i].toarray(),P_A[cav_neigh,i].toarray())\n",
    "        #selects either P_A[j,i] or P_B[j,i] depending on epsilon[j,i]=1\n",
    "        B = cavity(P_B_temp,inter = np.array(interaction[i])[cond],T = T,theta=theta)\n",
    "        return (1-P_t_2[i])*A+P_t_2[i]*B\n",
    "    J_transpose = J.transpose()\n",
    "\n",
    "\n",
    "    #create network properties\n",
    "    epsilon = make_epsilon(J)\n",
    "    js = J_transpose.tolil().rows\n",
    "    interaction = J_transpose.tolil().data\n",
    "    #R = epsilon.multiply(J_transpose)\n",
    "    row = J.tocoo().row#link to \n",
    "    col = J.tocoo().col#link from\n",
    "    #data= J_transpose.tocoo().data#interaction strenght from col to row\n",
    "    Ks = np.array([len(neigh) for neigh in js])  # in degree of each gene\n",
    "    avg_degree = np.mean(Ks)\n",
    "\n",
    "    print('fraction of symmetric links over total:\\n',len(epsilon.data)/len(J.data))\n",
    "\n",
    "    trj = [] \n",
    "    P_A =J.copy()\n",
    "    P_B= J.copy()\n",
    "    P_A.data =np.ones(J.nnz)#np.random.rand(J.nnz)#prob of node activation\n",
    "    P_B.data =np.ones(J.nnz)#np.random.rand(J.nnz)\n",
    "    P_t_1 = np.random.rand(J.shape[0])#P^{t-1}\n",
    "    P_t_2 = np.random.rand(J.shape[0])#P^{t-2}\n",
    "    P_t = np.zeros(J.shape[0])\n",
    "    P_A_new = P_A.copy()\n",
    "    P_B_new = P_B.copy()\n",
    "    #print(len(list(zip(row,col))))\n",
    "    for t in range(max_iter):\n",
    "        # here it is a time step of marginal and cavity\n",
    "        for i in range(J.shape[0]):\n",
    "            cond = np.array([True]*len(js[i]))#this is for non-cavity probabilities, predecessors. of i \n",
    "            P_t[i] = probability_upd(i,cond,0,P_t_2,P_A,P_B)\n",
    "\n",
    "        for i,l in zip(row,col):\n",
    "\n",
    "            cond = (np.array(js[i])!=l)#this is for cavity probabilities,# predecessors. of i /{l}\n",
    "            P_A_new[i,l] = probability_upd(i,cond,0,P_t_2,P_A,P_B)\n",
    "            theta = J[l,i]*epsilon[i,l]\n",
    "            P_B_new[i,l] = probability_upd(i,cond,theta,P_t_2,P_A,P_B)# even if P_B depends on P_A, the index we care about different entries\n",
    "            \n",
    "        P_t_2 = P_t_1.copy()#progress time\n",
    "        P_t_1 = P_t.copy()\n",
    "        P_A = P_A_new.copy()\n",
    "        P_B = P_B_new.copy()\n",
    "        improvement = abs(P_t-P_t_2).max()\n",
    "        if improvement<precision:\n",
    "            print('ending after ',t,' iterations')\n",
    "            break\n",
    "\n",
    "    return P_A,P_B,P_t\n",
    "%time P_A,P_B,P_t_zhang = cavity_iteration(J,T,150)"
   ]
  },
  {
   "cell_type": "markdown",
   "id": "8fcd3fc7",
   "metadata": {},
   "source": [
    "Aurell"
   ]
  },
  {
   "cell_type": "code",
   "execution_count": 5,
   "id": "f61cb069",
   "metadata": {},
   "outputs": [],
   "source": [
    "def cavity_aurell(J,T,max_iter = 10,precision = 1e-4):\n",
    "    def probability_upd(i,cond,theta,P_t_2,P_A,P_B):\n",
    "        cav_neigh = np.array(js[i])[cond]\n",
    "\n",
    "        A = cavity(P_A[cav_neigh,i].toarray(),inter = np.array(interaction[i])[cond],T = T,theta=theta)\n",
    "        P_B_temp = np.where(epsilon[cav_neigh,i].toarray(),P_B[cav_neigh,i].toarray(),P_A[cav_neigh,i].toarray())\n",
    "        #selects either P_A[j,i] or P_B[j,i] depending on epsilon[j,i]=1\n",
    "        B = cavity(P_B_temp,inter = np.array(interaction[i])[cond],T = T,theta=theta)\n",
    "        return (1-P_t_2)*A+P_t_2*B\n",
    "    J_transpose = J.transpose()\n",
    "\n",
    "\n",
    "    #create network properties\n",
    "    epsilon = make_epsilon(J)\n",
    "    js = J_transpose.tolil().rows\n",
    "    interaction = J_transpose.tolil().data\n",
    "    #R = epsilon.multiply(J_transpose)\n",
    "    row = J.tocoo().row#link to \n",
    "    col = J.tocoo().col#link from\n",
    "    #data= J_transpose.tocoo().data#interaction strenght from col to row\n",
    "    Ks = np.array([len(neigh) for neigh in js])  # in degree of each gene\n",
    "    avg_degree = np.mean(Ks)\n",
    "\n",
    "    print('fraction of symmetric links over total:\\n',len(epsilon.data)/len(J.data))\n",
    "\n",
    "    trj = [] \n",
    "    P_A =J.copy()\n",
    "    P_B= J.copy()\n",
    "    P_A.data =np.ones(J.nnz)#np.random.rand(J.nnz)#prob of node activation\n",
    "    P_B.data =np.ones(J.nnz)#np.random.rand(J.nnz)\n",
    "    P_t_1 = np.random.rand(J.shape[0])#P^{t-1}\n",
    "    P_t_2 = np.random.rand(J.shape[0])#P^{t-2}\n",
    "    P_t = np.zeros(J.shape[0])\n",
    "    P_A_new = P_A.copy()\n",
    "    P_B_new = P_B.copy()\n",
    "    #print(len(list(zip(row,col))))\n",
    "    for t in range(max_iter):\n",
    "        # here it is a time step of marginal and cavity\n",
    "        for i in range(J.shape[0]):\n",
    "            cond = np.array([True]*len(js[i]))#this is for non-cavity probabilities, predecessors. of i \n",
    "            P_t[i] = probability_upd(i,cond,0,P_t_2[i],P_A,P_B)\n",
    "\n",
    "        for i,l in zip(row,col):\n",
    "\n",
    "            cond = (np.array(js[i])!=l)#this is for cavity probabilities,# predecessors. of i /{l}\n",
    "            P_A_new[i,l] = probability_upd(i,cond,0,P_A[i,l],P_A,P_B)\n",
    "            theta = J[l,i]*epsilon[i,l]\n",
    "            P_B_new[i,l] = probability_upd(i,cond,theta,P_B[i,l],P_A,P_B)# even if P_B depends on P_A, the index we care about different entries\n",
    "            \n",
    "        P_t_2 = P_t_1.copy()#progress time\n",
    "        P_t_1 = P_t.copy()\n",
    "        P_A = P_A_new.copy()\n",
    "        P_B = P_B_new.copy()      \n",
    "        improvement = abs(P_t-P_t_2).max()\n",
    "        if improvement<precision:\n",
    "            print('ending after ',t,' iterations')\n",
    "            break\n",
    "    return P_A,P_B,P_t"
   ]
  },
  {
   "cell_type": "code",
   "execution_count": 6,
   "id": "61a4b5a5",
   "metadata": {},
   "outputs": [
    {
     "name": "stdout",
     "output_type": "stream",
     "text": [
      "fraction of symmetric links over total:\n",
      " 1.0\n",
      "ending after  10  iterations\n",
      "CPU times: user 12min 36s, sys: 308 ms, total: 12min 36s\n",
      "Wall time: 12min 36s\n"
     ]
    }
   ],
   "source": [
    "%time P_A,P_B,P_t_aurel = cavity_aurell(J,T,150)"
   ]
  },
  {
   "cell_type": "code",
   "execution_count": 7,
   "id": "b8d7cd34",
   "metadata": {},
   "outputs": [
    {
     "name": "stdout",
     "output_type": "stream",
     "text": [
      "fraction of symmetric links over total:\n",
      " 1.0\n",
      "ending after  15  iterations\n",
      "CPU times: user 18min 19s, sys: 56 ms, total: 18min 19s\n",
      "Wall time: 18min 19s\n"
     ]
    }
   ],
   "source": [
    "def cavity_averaged(J,T,max_iter = 10,precision = 1e-4):\n",
    "    def probability_upd(i,cond,theta,P_t_2,P_A,P_B):\n",
    "        cav_neigh = np.array(js[i])[cond]\n",
    "\n",
    "        A = cavity(P_A[cav_neigh,i].toarray(),inter = np.array(interaction[i])[cond],T = T,theta=theta)\n",
    "        P_B_temp = np.where(epsilon[cav_neigh,i].toarray(),P_B[cav_neigh,i].toarray(),P_A[cav_neigh,i].toarray())\n",
    "        #selects either P_A[j,i] or P_B[j,i] depending on epsilon[j,i]=1\n",
    "        B = cavity(P_B_temp,inter = np.array(interaction[i])[cond],T = T,theta=theta)\n",
    "        return (1-P_t_2)*A+P_t_2*B\n",
    "    J_transpose = J.transpose()\n",
    "\n",
    "\n",
    "    #create network properties\n",
    "    epsilon = make_epsilon(J)\n",
    "    js = J_transpose.tolil().rows\n",
    "    interaction = J_transpose.tolil().data\n",
    "    #R = epsilon.multiply(J_transpose)\n",
    "    row = J.tocoo().row#link to \n",
    "    col = J.tocoo().col#link from\n",
    "    #data= J_transpose.tocoo().data#interaction strenght from col to row\n",
    "    Ks = np.array([len(neigh) for neigh in js])  # in degree of each gene\n",
    "    avg_degree = np.mean(Ks)\n",
    "\n",
    "    print('fraction of symmetric links over total:\\n',len(epsilon.data)/len(J.data))\n",
    "\n",
    "    trj = [] \n",
    "    P_A_2 =J.copy()\n",
    "    P_B_2= J.copy()\n",
    "    P_A_2.data =np.ones(J.nnz)#np.random.rand(J.nnz)#prob of node activation\n",
    "    P_B_2.data =np.ones(J.nnz)#np.random.rand(J.nnz)\n",
    "    P_A_1 =J.copy()\n",
    "    P_B_1= J.copy()\n",
    "    P_A_1.data =np.ones(J.nnz)#np.random.rand(J.nnz)#prob of node activation\n",
    "    P_B_1.data =np.ones(J.nnz)#np.random.rand(J.nnz)\n",
    "    P_t_1 = np.random.rand(J.shape[0])#P^{t-1}\n",
    "    P_t_2 = np.random.rand(J.shape[0])#P^{t-2}\n",
    "    P_t_3 = np.random.rand(J.shape[0])#P^{t-3}\n",
    "    P_t = np.zeros(J.shape[0])\n",
    "    P_A = P_A_1.copy()\n",
    "    P_B = P_B_1.copy()\n",
    "    #print(len(list(zip(row,col))))\n",
    "    for t in range(max_iter):\n",
    "        # here it is a time step of marginal and cavity\n",
    "        for i in range(J.shape[0]):\n",
    "            cond = np.array([True]*len(js[i]))#this is for non-cavity probabilities, predecessors. of i \n",
    "            P_t[i] = probability_upd(i,cond,0,P_t_2[i],P_A_1,P_B_1)\n",
    "\n",
    "        for i,l in zip(row,col):\n",
    "            P_t_2_cav = P_A_2[i,l]*(1-P_t_3[l])+P_B_2[i,l]*P_t_3[l]\n",
    "            cond = (np.array(js[i])!=l)#this is for cavity probabilities,# predecessors. of i /{l}\n",
    "            P_A[i,l] = probability_upd(i,cond,0,P_t_2_cav,P_A_1,P_B_1)\n",
    "            theta = J[l,i]*epsilon[i,l]\n",
    "            P_B[i,l] = probability_upd(i,cond,theta,P_t_2_cav,P_A_1,P_B_1)# even if P_B depends on P_A, the index we care about different entries\n",
    "            \n",
    "        P_t_3 = P_t_2.copy()#progress time\n",
    "        P_t_2 = P_t_1.copy()#progress time\n",
    "        P_t_1 = P_t.copy()\n",
    "        P_A_2 = P_A_1.copy()\n",
    "        P_B_2 = P_B_1.copy()        \n",
    "        P_A_1 = P_A.copy()\n",
    "        P_B_1 = P_B.copy() \n",
    "        improvement = abs(P_t-P_t_2).max()\n",
    "        if improvement<precision:\n",
    "            print('ending after ',t,' iterations')\n",
    "            break\n",
    "    return P_A,P_B,P_t\n",
    "%time P_A,P_B,P_t_averaged = cavity_averaged(J,T,150)"
   ]
  },
  {
   "cell_type": "code",
   "execution_count": 8,
   "id": "85798c8c",
   "metadata": {},
   "outputs": [],
   "source": [
    "def replics_gpu(J, P_init, T, N_replics,N_iterations):\n",
    "\n",
    "    def dynamics_gpu(J, n, T,N_iterations):\n",
    "        if not (type(J) is csr_gpu):\n",
    "            print('Coupling matrix should be of type'+str(csr_gpu)+', I try to convert')\n",
    "            J = csr_gpu(J)\n",
    "        #local_state = cp.random.seed(seed)\n",
    "        N1 = J.shape[0]\n",
    "        N_therm = 100\n",
    "        t = 0\n",
    "        while t < N_therm:\n",
    "            z = cp.random.logistic(0, T , (1, N1))\n",
    "            # z=numpy.random.normal(0,2*T,(1,N1))\n",
    "            a = n * J - z\n",
    "            n = cp.where(a > 0, 1, 0.)[0]\n",
    "            t += 1\n",
    "        t = 0\n",
    "        #N_iterati%load_ext line_profilerons =max(int(np.log(1-alpha)/np.log(0.5*(1+np.tanh(1/2/T)))),1000)# number iterations grows at low temperature. See notes\n",
    "        m = cp.zeros(N1)\n",
    "        while t < N_iterations:\n",
    "            z = cp.random.logistic(0, T , (1, N1),dtype=cp.float32)\n",
    "            # z=numpy.random.normal(0,2*T,(1,N1))\n",
    "            a = n * J - z\n",
    "            n = cp.where(a > 0, 1, 0.)[0]\n",
    "            m += n\n",
    "            t += 1\n",
    "\n",
    "        return m / t\n",
    "\n",
    "\n",
    "    N = J.shape[0]\n",
    "    initial_states = cp.where(cp.random.rand(N_replics,N,dtype=cp.float32) > P_init, 1, 0)\n",
    "    P_sim = itertools.starmap(dynamics_gpu, itertools.product([J], initial_states, [T], [N_iterations]))\n",
    "    #P_sim = cp.mean(cp.asarray(list(P_sim)), axis=0)\n",
    "    return cp.asnumpy(cp.asarray(list(P_sim)))\n",
    "\n"
   ]
  },
  {
   "cell_type": "code",
   "execution_count": 9,
   "id": "d76071ea",
   "metadata": {},
   "outputs": [
    {
     "name": "stdout",
     "output_type": "stream",
     "text": [
      "CPU times: user 30min 36s, sys: 380 ms, total: 30min 36s\n",
      "Wall time: 30min 36s\n"
     ]
    }
   ],
   "source": [
    "N_replics = 50\n",
    "N_iterations = 1e5\n",
    "%time a = replics_gpu(csr_gpu(J), cp.random.rand(J.shape[0]), T, N_replics,N_iterations)\n",
    "P_t_MC = np.mean(a,axis = 0)"
   ]
  },
  {
   "cell_type": "code",
   "execution_count": 13,
   "id": "407c9ae7",
   "metadata": {},
   "outputs": [
    {
     "data": {
      "text/plain": [
       "[<matplotlib.lines.Line2D at 0x7f8e95c27490>]"
      ]
     },
     "execution_count": 13,
     "metadata": {},
     "output_type": "execute_result"
    },
    {
     "data": {
      "image/png": "[encoded data removed]",
      "text/plain": [
       "<Figure size 244.08x150.85 with 1 Axes>"
      ]
     },
     "metadata": {
      "needs_background": "light"
     },
     "output_type": "display_data"
    },
    {
     "data": {
      "image/png": "[encoded data removed]",
      "text/plain": [
       "<Figure size 244.08x150.85 with 1 Axes>"
      ]
     },
     "metadata": {
      "needs_background": "light"
     },
     "output_type": "display_data"
    }
   ],
   "source": [
    "latexify.latexify(columns = 2)\n",
    "h,b  = np.histogram(P_t_aurel-P_t_MC,50,density=True)\n",
    "plt.plot(b[:-1],h,label = 'C.1')\n",
    "h,b  = np.histogram(P_t_zhang-P_t_MC,50,alpha = 0.5,density= True)\n",
    "plt.plot(b[:-1],h,label = 'C.2')\n",
    "_ = plt.hist(P_t_averaged-P_t_MC,50,alpha = 0.5,label = 'C.3',density= True)\n",
    "plt.semilogy()\n",
    "plt.legend(fontsize = 10.5)\n",
    "plt.xlabel('$P-P_{MC}$',fontsize = 12)\n",
    "plt.ylabel('$\\Pi(\\cdot)$',fontsize = 12)\n",
    "plt.tight_layout()\n",
    "#plt.savefig('different_OTA_antisymmetric.pdf')\n",
    "plt.figure()\n",
    "plt.plot(P_t_aurel,P_t_MC,'.')\n",
    "plt.plot(P_t_zhang,P_t_MC,'.')\n",
    "plt.plot([0,1],[0,1],c = 'k')\n"
   ]
  },
  {
   "cell_type": "code",
   "execution_count": 10,
   "id": "4174be80",
   "metadata": {},
   "outputs": [
    {
     "name": "stdout",
     "output_type": "stream",
     "text": [
      "ending after  6  iterations\n"
     ]
    }
   ],
   "source": [
    "def equilibrium_prob(J,T,N_iterations = 50):\n",
    "    '''\n",
    "    Input should be a sparse matrix  '''\n",
    "    J = scipy.sparse.csc_matrix(J)\n",
    "    def update_equilibrium(P,inter,T):\n",
    "        numerator = np.prod(1+P*(np.exp(inter/T)-1))#boltzman factor\n",
    "        return numerator/(numerator+1)#to ensure normalisation\n",
    "    J_transpose = J.transpose()\n",
    "    js = J_transpose.tolil().rows\n",
    "    interaction = J_transpose.tolil().data\n",
    "    N = J.shape[0]\n",
    "    P_A =J.copy()\n",
    "    P_A.data =np.random.rand(J.nnz)#prob of node activation\n",
    "    row = J.tocoo().row#link to \n",
    "    col = J.tocoo().col#link from\n",
    "\n",
    "    for t in range(N_iterations):\n",
    "        P_old = P_A.copy()\n",
    "        for i,l in zip(row,col):\n",
    "            cond = (np.array(js[i])!=l)#this is for cavity probabilities,# predecessors. of i /{l}\n",
    "            cav_neigh = np.array(js[i])[cond]   \n",
    "            P_A[i,l] = update_equilibrium(P_A[cav_neigh,i].toarray().squeeze(),inter = np.array(interaction[i])[cond],T = T)\n",
    "        improvement = abs(P_A-P_old).max()\n",
    "        if improvement<1e-4:\n",
    "            print('ending after ',t,' iterations')\n",
    "            break\n",
    "    P_eq = np.zeros(N)\n",
    "    for i in range(N):\n",
    "        cond = np.array([True]*len(js[i]))\n",
    "        cav_neigh = np.array(js[i])[cond]   \n",
    "        P_eq[i] = update_equilibrium(P_A[cav_neigh,i].toarray().squeeze(),inter = np.array(interaction[i])[cond],T = T)\n",
    "    return P_eq\n",
    "P_eq = equilibrium_prob(J,T,N_iterations = 50)"
   ]
  },
  {
   "cell_type": "markdown",
   "id": "58e50aff",
   "metadata": {},
   "source": [
    "error committed compared to simulation"
   ]
  },
  {
   "cell_type": "code",
   "execution_count": 11,
   "id": "5701b12d",
   "metadata": {},
   "outputs": [
    {
     "data": {
      "text/plain": [
       "<matplotlib.legend.Legend at 0x7f3b3dcdebb0>"
      ]
     },
     "execution_count": 11,
     "metadata": {},
     "output_type": "execute_result"
    },
    {
     "data": {
      "image/png": "[encoded data removed]",
      "text/plain": [
       "<Figure size 432x288 with 1 Axes>"
      ]
     },
     "metadata": {
      "needs_background": "light"
     },
     "output_type": "display_data"
    }
   ],
   "source": [
    "_ = plt.hist(P_t_aurel-P_eq,50,label = 'Aurel')\n",
    "_ = plt.hist(P_t_zhang-P_eq,50,alpha = 0.5,label = 'Zhang')\n",
    "plt.semilogy()\n",
    "plt.legend()\n"
   ]
  },
  {
   "cell_type": "code",
   "execution_count": 14,
   "id": "cf70259e",
   "metadata": {
    "scrolled": true
   },
   "outputs": [
    {
     "data": {
      "image/png": "[encoded data removed]",
      "text/plain": [
       "<Figure size 432x288 with 1 Axes>"
      ]
     },
     "metadata": {
      "needs_background": "light"
     },
     "output_type": "display_data"
    }
   ],
   "source": [
    "_ = plt.hist(P_t_aurel,50)\n",
    "_ = plt.hist(P_t_zhang,50,alpha = 0.7)"
   ]
  },
  {
   "cell_type": "code",
   "execution_count": 4,
   "id": "cb260ce8",
   "metadata": {},
   "outputs": [],
   "source": [
    "\n",
    "def make_network(N,k,kind):\n",
    "    '''generate a random regular network'''\n",
    "    #sequence =  generate_degree_seq(gamma,N)\n",
    "    sequence = np.ones(N,dtype=int)*k\n",
    "    if np.sum(sequence)%2==1:\n",
    "        sequence[-1]=sequence[-1]+1\n",
    "    #make oriented network\n",
    "    G = nx.generators.degree_seq.configuration_model(sequence)\n",
    "    G.remove_edges_from(nx.selfloop_edges(G))\n",
    "    J = nx.adjacency_matrix(G)\n",
    "    row = J.tocoo().row\n",
    "    col = J.tocoo().col\n",
    "    cond = row>col\n",
    "    interaction = np.where(np.random.rand(np.count_nonzero(cond))>.5,1.,-1.)\n",
    "    A = scipy.sparse.csr_matrix((interaction,(row[cond],col[cond])),shape = (N,N))\n",
    "    return assign_bidirectional_symmetry(A.tolil(),kind)\n",
    "def antisymmetric_sign(J):\n",
    "    row = J.tocoo().row\n",
    "    col = J.tocoo().col\n",
    "    cond = row>col\n",
    "    interaction = np.where(np.random.rand(np.count_nonzero(cond))>.5,1,-1).astype(np.float32)\n",
    "    A = scipy.sparse.coo_matrix((interaction,(row[cond],col[cond])),shape = (N,N))\n",
    "    J = (A-A.T).tocsc()\n",
    "    return J\n",
    "def assign_bidirectional_symmetry(J,kind):\n",
    "    '''\n",
    "    return interaction matrix with chosed symmetry of interaction sign'''\n",
    "    triang = scipy.sparse.tril(J)\n",
    "    a,b = triang.nonzero()\n",
    "    if kind == 'symmetric':\n",
    "        J[b,a] = J[a,b]\n",
    "    elif kind == 'antisymmetric':\n",
    "        J[b,a] = -J[a,b]\n",
    "    elif kind == 'asymmetric':\n",
    "        J[b,a] = np.where(np.random.rand(len(b))>0.5,1,-1)\n",
    "    else:\n",
    "        raise ValueError(\"kind should be one of those: asymmetric, antisymmetric  symmetric. Instead you select: \"+ kind)\n",
    "    J=J\n",
    "    return J    "
   ]
  },
  {
   "cell_type": "code",
   "execution_count": 7,
   "id": "2b9ca940",
   "metadata": {},
   "outputs": [
    {
     "data": {
      "text/plain": [
       "[<matplotlib.lines.Line2D at 0x7f2eba0dbc70>]"
      ]
     },
     "execution_count": 7,
     "metadata": {},
     "output_type": "execute_result"
    },
    {
     "data": {
      "image/png": "[encoded data removed]",
      "text/plain": [
       "<Figure size 432x288 with 2 Axes>"
      ]
     },
     "metadata": {
      "needs_background": "light"
     },
     "output_type": "display_data"
    }
   ],
   "source": [
    "import networkx as nx\n",
    "N = 100\n",
    "k = 3\n",
    "kind = 'asymmetric'\n",
    "#plt.imshow(scipy.sparse.tril(make_network(N,k,kind)).toarray())\n",
    "J = make_network(N,k,kind)\n",
    "plt.imshow(J.toarray())\n",
    "plt.colorbar()\n",
    "plt.plot([N-1,0],[N-1,0],'k-')\n"
   ]
  },
  {
   "cell_type": "code",
   "execution_count": 13,
   "id": "967c5fa9",
   "metadata": {},
   "outputs": [
    {
     "data": {
      "text/plain": [
       "(100,)"
      ]
     },
     "execution_count": 13,
     "metadata": {},
     "output_type": "execute_result"
    }
   ],
   "source": [
    "import simulation\n",
    "P_init = cp.random.rand(N)\n",
    "N_replics = 2\n",
    "T = 1\n",
    "N_iterations = 100\n",
    "simulation.replics_gpu(J, P_init, T, N_replics,N_iterations).mean(axis = 0).shape"
   ]
  },
  {
   "cell_type": "code",
   "execution_count": null,
   "id": "9e309706",
   "metadata": {},
   "outputs": [],
   "source": []
  }
 ],
 "metadata": {
  "kernelspec": {
   "display_name": "Python 3",
   "language": "python",
   "name": "python3"
  },
  "language_info": {
   "codemirror_mode": {
    "name": "ipython",
    "version": 3
   },
   "file_extension": ".py",
   "mimetype": "text/x-python",
   "name": "python",
   "nbconvert_exporter": "python",
   "pygments_lexer": "ipython3",
   "version": "3.8.8"
  }
 },
 "nbformat": 4,
 "nbformat_minor": 5
}
